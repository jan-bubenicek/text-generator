{
 "cells": [
  {
   "cell_type": "markdown",
   "metadata": {
    "papermill": {
     "duration": 0.0293,
     "end_time": "2020-11-19T19:48:13.936352",
     "exception": false,
     "start_time": "2020-11-19T19:48:13.907052",
     "status": "completed"
    },
    "tags": []
   },
   "source": [
    "**Text processing**\n",
    "Outline\n",
    "1. Upload data - done\n",
    "2. Preprocessing - done (hopefully, some problems may occur later)\n",
    "3. Tokenize - done\n",
    "4. Model\n",
    "5. Generate text"
   ]
  },
  {
   "cell_type": "code",
   "execution_count": 1,
   "metadata": {
    "_execution_state": "idle",
    "_uuid": "051d70d956493feee0c6d64651c6a088724dca2a",
    "execution": {
     "iopub.execute_input": "2020-11-19T19:48:14.024932Z",
     "iopub.status.busy": "2020-11-19T19:48:14.022572Z",
     "iopub.status.idle": "2020-11-19T19:48:16.487807Z",
     "shell.execute_reply": "2020-11-19T19:48:16.486159Z"
    },
    "papermill": {
     "duration": 2.5233,
     "end_time": "2020-11-19T19:48:16.488088",
     "exception": false,
     "start_time": "2020-11-19T19:48:13.964788",
     "status": "completed"
    },
    "tags": []
   },
   "outputs": [
    {
     "name": "stderr",
     "output_type": "stream",
     "text": [
      "── \u001b[1mAttaching packages\u001b[22m ─────────────────────────────────────── tidyverse 1.3.0 ──\n",
      "\n",
      "\u001b[32m✔\u001b[39m \u001b[34mggplot2\u001b[39m 3.3.2     \u001b[32m✔\u001b[39m \u001b[34mpurrr  \u001b[39m 0.3.4\n",
      "\u001b[32m✔\u001b[39m \u001b[34mtibble \u001b[39m 3.0.4     \u001b[32m✔\u001b[39m \u001b[34mdplyr  \u001b[39m 1.0.2\n",
      "\u001b[32m✔\u001b[39m \u001b[34mtidyr  \u001b[39m 1.1.2     \u001b[32m✔\u001b[39m \u001b[34mstringr\u001b[39m 1.4.0\n",
      "\u001b[32m✔\u001b[39m \u001b[34mreadr  \u001b[39m 1.4.0     \u001b[32m✔\u001b[39m \u001b[34mforcats\u001b[39m 0.5.0\n",
      "\n",
      "── \u001b[1mConflicts\u001b[22m ────────────────────────────────────────── tidyverse_conflicts() ──\n",
      "\u001b[31m✖\u001b[39m \u001b[34mdplyr\u001b[39m::\u001b[32mfilter()\u001b[39m masks \u001b[34mstats\u001b[39m::filter()\n",
      "\u001b[31m✖\u001b[39m \u001b[34mdplyr\u001b[39m::\u001b[32mlag()\u001b[39m    masks \u001b[34mstats\u001b[39m::lag()\n",
      "\n"
     ]
    }
   ],
   "source": [
    "# libraries\n",
    "library(tidyverse)\n",
    "library(keras)\n",
    "library(tensorflow)\n",
    "library(tokenizers)"
   ]
  },
  {
   "cell_type": "markdown",
   "metadata": {
    "papermill": {
     "duration": 0.030387,
     "end_time": "2020-11-19T19:48:16.549237",
     "exception": false,
     "start_time": "2020-11-19T19:48:16.518850",
     "status": "completed"
    },
    "tags": []
   },
   "source": [
    "Data"
   ]
  },
  {
   "cell_type": "code",
   "execution_count": 2,
   "metadata": {
    "execution": {
     "iopub.execute_input": "2020-11-19T19:48:16.648744Z",
     "iopub.status.busy": "2020-11-19T19:48:16.612051Z",
     "iopub.status.idle": "2020-11-19T19:48:18.870665Z",
     "shell.execute_reply": "2020-11-19T19:48:18.869253Z"
    },
    "papermill": {
     "duration": 2.292155,
     "end_time": "2020-11-19T19:48:18.870896",
     "exception": false,
     "start_time": "2020-11-19T19:48:16.578741",
     "status": "completed"
    },
    "tags": []
   },
   "outputs": [],
   "source": [
    "# upload book\n",
    "valka_s_mloky0 <- read_lines(\"https://web2.mlp.cz/koweb/00/03/34/75/66/valka_s_mloky.txt\")\n",
    "# change encoding\n",
    "valka_s_mloky <- iconv(valka_s_mloky0, from = \"CP1250\", to = \"UTF-8\")[11:1636]"
   ]
  },
  {
   "cell_type": "code",
   "execution_count": 3,
   "metadata": {
    "execution": {
     "iopub.execute_input": "2020-11-19T19:48:18.945601Z",
     "iopub.status.busy": "2020-11-19T19:48:18.943757Z",
     "iopub.status.idle": "2020-11-19T19:48:18.964278Z",
     "shell.execute_reply": "2020-11-19T19:48:18.962722Z"
    },
    "papermill": {
     "duration": 0.054779,
     "end_time": "2020-11-19T19:48:18.964417",
     "exception": false,
     "start_time": "2020-11-19T19:48:18.909638",
     "status": "completed"
    },
    "tags": []
   },
   "outputs": [
    {
     "data": {
      "text/html": [
       "<style>\n",
       ".list-inline {list-style: none; margin:0; padding: 0}\n",
       ".list-inline>li {display: inline-block}\n",
       ".list-inline>li:not(:last-child)::after {content: \"\\00b7\"; padding: 0 .5ex}\n",
       "</style>\n",
       "<ol class=list-inline><li>'KNIHA PRVNÍ'</li><li>''</li><li>'ANDRIAS SCHEUCHZERI'</li><li>''</li><li>'KAPITOLA 1'</li><li>''</li><li>'PODIVÍNSTVÍ KAPITÁNA VAN TOCHA'</li><li>''</li><li>'Kdybyste hledali ostrůvek Tana Masa na mapě, našli byste jej právě na rovníku kousek na západ od Sumatry; ale kdybyste se zeptali na palubě lodi Kandong Bandoeng kapitána J. van Tocha, co to je tahle Tana Masa, před kterou právě zakotvil, nadával by chvíli a pak by vám řekl, že to je ta nejšpinavější díra v celých Sundských ostrovech, ještě mizernější než Tana Bala a přinejmenším tak zatracená jako Pini nebo Banjak; že jediný s odpuštěním člověk, který tam žije – nepočítáme-li ovšem tyhle všivé Bataky –, je opilý obchodní agent, kříženec mezi Kubu a Portugalcem a ještě větší zloděj, pohan a prase než celý Kubu a celý běloch dohromady; a že je-li na světě něco zatraceného, pak je to zatracený život na téhle zatracené Tana Masa, pane. Načež byste se ho patrně zeptali, proč tu tedy spustil ty zatracené kotvy, jako by tu chtěl zůstat zatracené tři dny; i zafuněl by podrážděně a bručel by něco v tom smyslu, že Kandong Bandoeng by sem neplula jenom pro tu zatracenou kopru nebo palmový olej, to dá rozum, a ostatně po tom vám nic není, pane, já mám své zatracené rozkazy, pane, a vy buďte tak laskav, pane, a hleďte si svého. A nadával by tak rozsáhle a hojně, jak se sluší na staršího, ale na svůj věk stále ještě svěžího lodního kapitána.'</li></ol>\n"
      ],
      "text/latex": [
       "\\begin{enumerate*}\n",
       "\\item 'KNIHA PRVNÍ'\n",
       "\\item ''\n",
       "\\item 'ANDRIAS SCHEUCHZERI'\n",
       "\\item ''\n",
       "\\item 'KAPITOLA 1'\n",
       "\\item ''\n",
       "\\item 'PODIVÍNSTVÍ KAPITÁNA VAN TOCHA'\n",
       "\\item ''\n",
       "\\item 'Kdybyste hledali ostrůvek Tana Masa na mapě, našli byste jej právě na rovníku kousek na západ od Sumatry; ale kdybyste se zeptali na palubě lodi Kandong Bandoeng kapitána J. van Tocha, co to je tahle Tana Masa, před kterou právě zakotvil, nadával by chvíli a pak by vám řekl, že to je ta nejšpinavější díra v celých Sundských ostrovech, ještě mizernější než Tana Bala a přinejmenším tak zatracená jako Pini nebo Banjak; že jediný s odpuštěním člověk, který tam žije – nepočítáme-li ovšem tyhle všivé Bataky –, je opilý obchodní agent, kříženec mezi Kubu a Portugalcem a ještě větší zloděj, pohan a prase než celý Kubu a celý běloch dohromady; a že je-li na světě něco zatraceného, pak je to zatracený život na téhle zatracené Tana Masa, pane. Načež byste se ho patrně zeptali, proč tu tedy spustil ty zatracené kotvy, jako by tu chtěl zůstat zatracené tři dny; i zafuněl by podrážděně a bručel by něco v tom smyslu, že Kandong Bandoeng by sem neplula jenom pro tu zatracenou kopru nebo palmový olej, to dá rozum, a ostatně po tom vám nic není, pane, já mám své zatracené rozkazy, pane, a vy buďte tak laskav, pane, a hleďte si svého. A nadával by tak rozsáhle a hojně, jak se sluší na staršího, ale na svůj věk stále ještě svěžího lodního kapitána.'\n",
       "\\end{enumerate*}\n"
      ],
      "text/markdown": [
       "1. 'KNIHA PRVNÍ'\n",
       "2. ''\n",
       "3. 'ANDRIAS SCHEUCHZERI'\n",
       "4. ''\n",
       "5. 'KAPITOLA 1'\n",
       "6. ''\n",
       "7. 'PODIVÍNSTVÍ KAPITÁNA VAN TOCHA'\n",
       "8. ''\n",
       "9. 'Kdybyste hledali ostrůvek Tana Masa na mapě, našli byste jej právě na rovníku kousek na západ od Sumatry; ale kdybyste se zeptali na palubě lodi Kandong Bandoeng kapitána J. van Tocha, co to je tahle Tana Masa, před kterou právě zakotvil, nadával by chvíli a pak by vám řekl, že to je ta nejšpinavější díra v celých Sundských ostrovech, ještě mizernější než Tana Bala a přinejmenším tak zatracená jako Pini nebo Banjak; že jediný s odpuštěním člověk, který tam žije – nepočítáme-li ovšem tyhle všivé Bataky –, je opilý obchodní agent, kříženec mezi Kubu a Portugalcem a ještě větší zloděj, pohan a prase než celý Kubu a celý běloch dohromady; a že je-li na světě něco zatraceného, pak je to zatracený život na téhle zatracené Tana Masa, pane. Načež byste se ho patrně zeptali, proč tu tedy spustil ty zatracené kotvy, jako by tu chtěl zůstat zatracené tři dny; i zafuněl by podrážděně a bručel by něco v tom smyslu, že Kandong Bandoeng by sem neplula jenom pro tu zatracenou kopru nebo palmový olej, to dá rozum, a ostatně po tom vám nic není, pane, já mám své zatracené rozkazy, pane, a vy buďte tak laskav, pane, a hleďte si svého. A nadával by tak rozsáhle a hojně, jak se sluší na staršího, ale na svůj věk stále ještě svěžího lodního kapitána.'\n",
       "\n",
       "\n"
      ],
      "text/plain": [
       "[1] \"KNIHA PRVNÍ\"                                                                                                                                                                                                                                                                                                                                                                                                                                                                                                                                                                                                                                                                                                                                                                                                                                                                                                                                                                                                                                                                                                                                                                                                                                                                                     \n",
       "[2] \"\"                                                                                                                                                                                                                                                                                                                                                                                                                                                                                                                                                                                                                                                                                                                                                                                                                                                                                                                                                                                                                                                                                                                                                                                                                                                                                                \n",
       "[3] \"ANDRIAS SCHEUCHZERI\"                                                                                                                                                                                                                                                                                                                                                                                                                                                                                                                                                                                                                                                                                                                                                                                                                                                                                                                                                                                                                                                                                                                                                                                                                                                                             \n",
       "[4] \"\"                                                                                                                                                                                                                                                                                                                                                                                                                                                                                                                                                                                                                                                                                                                                                                                                                                                                                                                                                                                                                                                                                                                                                                                                                                                                                                \n",
       "[5] \"KAPITOLA 1\"                                                                                                                                                                                                                                                                                                                                                                                                                                                                                                                                                                                                                                                                                                                                                                                                                                                                                                                                                                                                                                                                                                                                                                                                                                                                                      \n",
       "[6] \"\"                                                                                                                                                                                                                                                                                                                                                                                                                                                                                                                                                                                                                                                                                                                                                                                                                                                                                                                                                                                                                                                                                                                                                                                                                                                                                                \n",
       "[7] \"PODIVÍNSTVÍ KAPITÁNA VAN TOCHA\"                                                                                                                                                                                                                                                                                                                                                                                                                                                                                                                                                                                                                                                                                                                                                                                                                                                                                                                                                                                                                                                                                                                                                                                                                                                                  \n",
       "[8] \"\"                                                                                                                                                                                                                                                                                                                                                                                                                                                                                                                                                                                                                                                                                                                                                                                                                                                                                                                                                                                                                                                                                                                                                                                                                                                                                                \n",
       "[9] \"Kdybyste hledali ostrůvek Tana Masa na mapě, našli byste jej právě na rovníku kousek na západ od Sumatry; ale kdybyste se zeptali na palubě lodi Kandong Bandoeng kapitána J. van Tocha, co to je tahle Tana Masa, před kterou právě zakotvil, nadával by chvíli a pak by vám řekl, že to je ta nejšpinavější díra v celých Sundských ostrovech, ještě mizernější než Tana Bala a přinejmenším tak zatracená jako Pini nebo Banjak; že jediný s odpuštěním člověk, který tam žije – nepočítáme-li ovšem tyhle všivé Bataky –, je opilý obchodní agent, kříženec mezi Kubu a Portugalcem a ještě větší zloděj, pohan a prase než celý Kubu a celý běloch dohromady; a že je-li na světě něco zatraceného, pak je to zatracený život na téhle zatracené Tana Masa, pane. Načež byste se ho patrně zeptali, proč tu tedy spustil ty zatracené kotvy, jako by tu chtěl zůstat zatracené tři dny; i zafuněl by podrážděně a bručel by něco v tom smyslu, že Kandong Bandoeng by sem neplula jenom pro tu zatracenou kopru nebo palmový olej, to dá rozum, a ostatně po tom vám nic není, pane, já mám své zatracené rozkazy, pane, a vy buďte tak laskav, pane, a hleďte si svého. A nadával by tak rozsáhle a hojně, jak se sluší na staršího, ale na svůj věk stále ještě svěžího lodního kapitána.\""
      ]
     },
     "metadata": {},
     "output_type": "display_data"
    }
   ],
   "source": [
    "valka_s_mloky[1:9]"
   ]
  },
  {
   "cell_type": "markdown",
   "metadata": {
    "papermill": {
     "duration": 0.030409,
     "end_time": "2020-11-19T19:48:19.025479",
     "exception": false,
     "start_time": "2020-11-19T19:48:18.995070",
     "status": "completed"
    },
    "tags": []
   },
   "source": [
    "Preprocessing"
   ]
  },
  {
   "cell_type": "code",
   "execution_count": 4,
   "metadata": {
    "execution": {
     "iopub.execute_input": "2020-11-19T19:48:19.090421Z",
     "iopub.status.busy": "2020-11-19T19:48:19.088576Z",
     "iopub.status.idle": "2020-11-19T19:48:19.119230Z",
     "shell.execute_reply": "2020-11-19T19:48:19.117743Z"
    },
    "papermill": {
     "duration": 0.063592,
     "end_time": "2020-11-19T19:48:19.119387",
     "exception": false,
     "start_time": "2020-11-19T19:48:19.055795",
     "status": "completed"
    },
    "tags": []
   },
   "outputs": [],
   "source": [
    "# split text into sentences\n",
    "valka_s_mloky <- unlist(strsplit(valka_s_mloky, \"(?<=[[:punct:]])\\\\s(?=[A-Z])\", perl = T))"
   ]
  },
  {
   "cell_type": "code",
   "execution_count": 5,
   "metadata": {
    "execution": {
     "iopub.execute_input": "2020-11-19T19:48:19.184873Z",
     "iopub.status.busy": "2020-11-19T19:48:19.183277Z",
     "iopub.status.idle": "2020-11-19T19:48:19.244617Z",
     "shell.execute_reply": "2020-11-19T19:48:19.243109Z"
    },
    "papermill": {
     "duration": 0.094656,
     "end_time": "2020-11-19T19:48:19.244749",
     "exception": false,
     "start_time": "2020-11-19T19:48:19.150093",
     "status": "completed"
    },
    "tags": []
   },
   "outputs": [],
   "source": [
    "# delete special czech punctuation\n",
    "valka_s_mloky <- valka_s_mloky %>% gsub(\"”\",\"\", .) %>% gsub(\"“\",\"\", .) %>% gsub(\"–\",\"\", .)\n",
    "valka_s_mloky <- valka_s_mloky[!(valka_s_mloky %in% c(\"\", \" \", \"!!\"))]  # delete empty lines\n",
    "# other punctuation is deleted by text_tokenizer using default settings "
   ]
  },
  {
   "cell_type": "markdown",
   "metadata": {
    "papermill": {
     "duration": 0.029801,
     "end_time": "2020-11-19T19:48:19.304844",
     "exception": false,
     "start_time": "2020-11-19T19:48:19.275043",
     "status": "completed"
    },
    "tags": []
   },
   "source": [
    "Tokenization"
   ]
  },
  {
   "cell_type": "code",
   "execution_count": 6,
   "metadata": {
    "execution": {
     "iopub.execute_input": "2020-11-19T19:48:19.370778Z",
     "iopub.status.busy": "2020-11-19T19:48:19.368934Z",
     "iopub.status.idle": "2020-11-19T19:48:19.380657Z",
     "shell.execute_reply": "2020-11-19T19:48:19.379113Z"
    },
    "papermill": {
     "duration": 0.045644,
     "end_time": "2020-11-19T19:48:19.380790",
     "exception": false,
     "start_time": "2020-11-19T19:48:19.335146",
     "status": "completed"
    },
    "tags": []
   },
   "outputs": [],
   "source": [
    "vocab_size <- 4000  # maybe increase the vocab_size?"
   ]
  },
  {
   "cell_type": "code",
   "execution_count": 7,
   "metadata": {
    "execution": {
     "iopub.execute_input": "2020-11-19T19:48:19.459045Z",
     "iopub.status.busy": "2020-11-19T19:48:19.457324Z",
     "iopub.status.idle": "2020-11-19T19:48:19.474901Z",
     "shell.execute_reply": "2020-11-19T19:48:19.473434Z"
    },
    "papermill": {
     "duration": 0.060369,
     "end_time": "2020-11-19T19:48:19.475040",
     "exception": false,
     "start_time": "2020-11-19T19:48:19.414671",
     "status": "completed"
    },
    "tags": []
   },
   "outputs": [
    {
     "data": {
      "text/html": [
       "<style>\n",
       ".list-inline {list-style: none; margin:0; padding: 0}\n",
       ".list-inline>li {display: inline-block}\n",
       ".list-inline>li:not(:last-child)::after {content: \"\\00b7\"; padding: 0 .5ex}\n",
       "</style>\n",
       "<ol class=list-inline><li>'KNIHA PRVNÍ'</li><li>'ANDRIAS SCHEUCHZERI'</li><li>'KAPITOLA 1'</li><li>'PODIVÍNSTVÍ KAPITÁNA VAN TOCHA'</li><li><span style=white-space:pre-wrap>'Kdybyste hledali ostrůvek Tana Masa na mapě, našli byste jej právě na rovníku kousek na západ od Sumatry; ale kdybyste se zeptali na palubě lodi Kandong Bandoeng kapitána J. van Tocha, co to je tahle Tana Masa, před kterou právě zakotvil, nadával by chvíli a pak by vám řekl, že to je ta nejšpinavější díra v celých Sundských ostrovech, ještě mizernější než Tana Bala a přinejmenším tak zatracená jako Pini nebo Banjak; že jediný s odpuštěním člověk, který tam žije  nepočítáme-li ovšem tyhle všivé Bataky , je opilý obchodní agent, kříženec mezi Kubu a Portugalcem a ještě větší zloděj, pohan a prase než celý Kubu a celý běloch dohromady; a že je-li na světě něco zatraceného, pak je to zatracený život na téhle zatracené Tana Masa, pane.'</span></li><li>'Načež byste se ho patrně zeptali, proč tu tedy spustil ty zatracené kotvy, jako by tu chtěl zůstat zatracené tři dny; i zafuněl by podrážděně a bručel by něco v tom smyslu, že Kandong Bandoeng by sem neplula jenom pro tu zatracenou kopru nebo palmový olej, to dá rozum, a ostatně po tom vám nic není, pane, já mám své zatracené rozkazy, pane, a vy buďte tak laskav, pane, a hleďte si svého.'</li><li>'A nadával by tak rozsáhle a hojně, jak se sluší na staršího, ale na svůj věk stále ještě svěžího lodního kapitána.'</li><li>'Ale kdybyste místo všetečných otázek nechali kapitána J. van Tocha, aby si bručel a proklínal pro sebe, mohli byste se dovědět víc.'</li><li>'Což není na něm vidět, že si potřebuje ulevit?'</li><li>'Jen ho nechte, jeho roztrpčenost si najde cestu sama. Tak se podívejte, pane, vyhrkne kapitán, ti chlapi u nás v Amsterodamu, ti zatracení židi tam nahoře si vzpomenou, prý perly, člověče, ohlídněte se po nějakých perlách.'</li></ol>\n"
      ],
      "text/latex": [
       "\\begin{enumerate*}\n",
       "\\item 'KNIHA PRVNÍ'\n",
       "\\item 'ANDRIAS SCHEUCHZERI'\n",
       "\\item 'KAPITOLA 1'\n",
       "\\item 'PODIVÍNSTVÍ KAPITÁNA VAN TOCHA'\n",
       "\\item 'Kdybyste hledali ostrůvek Tana Masa na mapě, našli byste jej právě na rovníku kousek na západ od Sumatry; ale kdybyste se zeptali na palubě lodi Kandong Bandoeng kapitána J. van Tocha, co to je tahle Tana Masa, před kterou právě zakotvil, nadával by chvíli a pak by vám řekl, že to je ta nejšpinavější díra v celých Sundských ostrovech, ještě mizernější než Tana Bala a přinejmenším tak zatracená jako Pini nebo Banjak; že jediný s odpuštěním člověk, který tam žije  nepočítáme-li ovšem tyhle všivé Bataky , je opilý obchodní agent, kříženec mezi Kubu a Portugalcem a ještě větší zloděj, pohan a prase než celý Kubu a celý běloch dohromady; a že je-li na světě něco zatraceného, pak je to zatracený život na téhle zatracené Tana Masa, pane.'\n",
       "\\item 'Načež byste se ho patrně zeptali, proč tu tedy spustil ty zatracené kotvy, jako by tu chtěl zůstat zatracené tři dny; i zafuněl by podrážděně a bručel by něco v tom smyslu, že Kandong Bandoeng by sem neplula jenom pro tu zatracenou kopru nebo palmový olej, to dá rozum, a ostatně po tom vám nic není, pane, já mám své zatracené rozkazy, pane, a vy buďte tak laskav, pane, a hleďte si svého.'\n",
       "\\item 'A nadával by tak rozsáhle a hojně, jak se sluší na staršího, ale na svůj věk stále ještě svěžího lodního kapitána.'\n",
       "\\item 'Ale kdybyste místo všetečných otázek nechali kapitána J. van Tocha, aby si bručel a proklínal pro sebe, mohli byste se dovědět víc.'\n",
       "\\item 'Což není na něm vidět, že si potřebuje ulevit?'\n",
       "\\item 'Jen ho nechte, jeho roztrpčenost si najde cestu sama. Tak se podívejte, pane, vyhrkne kapitán, ti chlapi u nás v Amsterodamu, ti zatracení židi tam nahoře si vzpomenou, prý perly, člověče, ohlídněte se po nějakých perlách.'\n",
       "\\end{enumerate*}\n"
      ],
      "text/markdown": [
       "1. 'KNIHA PRVNÍ'\n",
       "2. 'ANDRIAS SCHEUCHZERI'\n",
       "3. 'KAPITOLA 1'\n",
       "4. 'PODIVÍNSTVÍ KAPITÁNA VAN TOCHA'\n",
       "5. <span style=white-space:pre-wrap>'Kdybyste hledali ostrůvek Tana Masa na mapě, našli byste jej právě na rovníku kousek na západ od Sumatry; ale kdybyste se zeptali na palubě lodi Kandong Bandoeng kapitána J. van Tocha, co to je tahle Tana Masa, před kterou právě zakotvil, nadával by chvíli a pak by vám řekl, že to je ta nejšpinavější díra v celých Sundských ostrovech, ještě mizernější než Tana Bala a přinejmenším tak zatracená jako Pini nebo Banjak; že jediný s odpuštěním člověk, který tam žije  nepočítáme-li ovšem tyhle všivé Bataky , je opilý obchodní agent, kříženec mezi Kubu a Portugalcem a ještě větší zloděj, pohan a prase než celý Kubu a celý běloch dohromady; a že je-li na světě něco zatraceného, pak je to zatracený život na téhle zatracené Tana Masa, pane.'</span>\n",
       "6. 'Načež byste se ho patrně zeptali, proč tu tedy spustil ty zatracené kotvy, jako by tu chtěl zůstat zatracené tři dny; i zafuněl by podrážděně a bručel by něco v tom smyslu, že Kandong Bandoeng by sem neplula jenom pro tu zatracenou kopru nebo palmový olej, to dá rozum, a ostatně po tom vám nic není, pane, já mám své zatracené rozkazy, pane, a vy buďte tak laskav, pane, a hleďte si svého.'\n",
       "7. 'A nadával by tak rozsáhle a hojně, jak se sluší na staršího, ale na svůj věk stále ještě svěžího lodního kapitána.'\n",
       "8. 'Ale kdybyste místo všetečných otázek nechali kapitána J. van Tocha, aby si bručel a proklínal pro sebe, mohli byste se dovědět víc.'\n",
       "9. 'Což není na něm vidět, že si potřebuje ulevit?'\n",
       "10. 'Jen ho nechte, jeho roztrpčenost si najde cestu sama. Tak se podívejte, pane, vyhrkne kapitán, ti chlapi u nás v Amsterodamu, ti zatracení židi tam nahoře si vzpomenou, prý perly, člověče, ohlídněte se po nějakých perlách.'\n",
       "\n",
       "\n"
      ],
      "text/plain": [
       " [1] \"KNIHA PRVNÍ\"                                                                                                                                                                                                                                                                                                                                                                                                                                                                                                                                                                                                                                                                                                                                                         \n",
       " [2] \"ANDRIAS SCHEUCHZERI\"                                                                                                                                                                                                                                                                                                                                                                                                                                                                                                                                                                                                                                                                                                                                                 \n",
       " [3] \"KAPITOLA 1\"                                                                                                                                                                                                                                                                                                                                                                                                                                                                                                                                                                                                                                                                                                                                                          \n",
       " [4] \"PODIVÍNSTVÍ KAPITÁNA VAN TOCHA\"                                                                                                                                                                                                                                                                                                                                                                                                                                                                                                                                                                                                                                                                                                                                      \n",
       " [5] \"Kdybyste hledali ostrůvek Tana Masa na mapě, našli byste jej právě na rovníku kousek na západ od Sumatry; ale kdybyste se zeptali na palubě lodi Kandong Bandoeng kapitána J. van Tocha, co to je tahle Tana Masa, před kterou právě zakotvil, nadával by chvíli a pak by vám řekl, že to je ta nejšpinavější díra v celých Sundských ostrovech, ještě mizernější než Tana Bala a přinejmenším tak zatracená jako Pini nebo Banjak; že jediný s odpuštěním člověk, který tam žije  nepočítáme-li ovšem tyhle všivé Bataky , je opilý obchodní agent, kříženec mezi Kubu a Portugalcem a ještě větší zloděj, pohan a prase než celý Kubu a celý běloch dohromady; a že je-li na světě něco zatraceného, pak je to zatracený život na téhle zatracené Tana Masa, pane.\"\n",
       " [6] \"Načež byste se ho patrně zeptali, proč tu tedy spustil ty zatracené kotvy, jako by tu chtěl zůstat zatracené tři dny; i zafuněl by podrážděně a bručel by něco v tom smyslu, že Kandong Bandoeng by sem neplula jenom pro tu zatracenou kopru nebo palmový olej, to dá rozum, a ostatně po tom vám nic není, pane, já mám své zatracené rozkazy, pane, a vy buďte tak laskav, pane, a hleďte si svého.\"                                                                                                                                                                                                                                                                                                                                                              \n",
       " [7] \"A nadával by tak rozsáhle a hojně, jak se sluší na staršího, ale na svůj věk stále ještě svěžího lodního kapitána.\"                                                                                                                                                                                                                                                                                                                                                                                                                                                                                                                                                                                                                                                  \n",
       " [8] \"Ale kdybyste místo všetečných otázek nechali kapitána J. van Tocha, aby si bručel a proklínal pro sebe, mohli byste se dovědět víc.\"                                                                                                                                                                                                                                                                                                                                                                                                                                                                                                                                                                                                                                 \n",
       " [9] \"Což není na něm vidět, že si potřebuje ulevit?\"                                                                                                                                                                                                                                                                                                                                                                                                                                                                                                                                                                                                                                                                                                                      \n",
       "[10] \"Jen ho nechte, jeho roztrpčenost si najde cestu sama. Tak se podívejte, pane, vyhrkne kapitán, ti chlapi u nás v Amsterodamu, ti zatracení židi tam nahoře si vzpomenou, prý perly, člověče, ohlídněte se po nějakých perlách.\"                                                                                                                                                                                                                                                                                                                                                                                                                                                                                                                                      "
      ]
     },
     "metadata": {},
     "output_type": "display_data"
    }
   ],
   "source": [
    "valka_s_mloky[1:10]"
   ]
  },
  {
   "cell_type": "code",
   "execution_count": 8,
   "metadata": {
    "execution": {
     "iopub.execute_input": "2020-11-19T19:48:19.544434Z",
     "iopub.status.busy": "2020-11-19T19:48:19.542679Z",
     "iopub.status.idle": "2020-11-19T19:48:27.283862Z",
     "shell.execute_reply": "2020-11-19T19:48:27.282101Z"
    },
    "papermill": {
     "duration": 7.776528,
     "end_time": "2020-11-19T19:48:27.284075",
     "exception": false,
     "start_time": "2020-11-19T19:48:19.507547",
     "status": "completed"
    },
    "tags": []
   },
   "outputs": [],
   "source": [
    "tokenizer <- text_tokenizer(num_words = vocab_size, oov_token = \"<OOV>\")\n",
    "valka_token <- fit_text_tokenizer(tokenizer, valka_s_mloky)\n",
    "sequences <- texts_to_sequences(tokenizer, valka_s_mloky)"
   ]
  },
  {
   "cell_type": "code",
   "execution_count": 9,
   "metadata": {
    "execution": {
     "iopub.execute_input": "2020-11-19T19:48:27.353066Z",
     "iopub.status.busy": "2020-11-19T19:48:27.350782Z",
     "iopub.status.idle": "2020-11-19T19:48:27.418730Z",
     "shell.execute_reply": "2020-11-19T19:48:27.417061Z"
    },
    "papermill": {
     "duration": 0.102077,
     "end_time": "2020-11-19T19:48:27.418852",
     "exception": false,
     "start_time": "2020-11-19T19:48:27.316775",
     "status": "completed"
    },
    "tags": []
   },
   "outputs": [
    {
     "data": {
      "text/html": [
       "4808"
      ],
      "text/latex": [
       "4808"
      ],
      "text/markdown": [
       "4808"
      ],
      "text/plain": [
       "[1] 4808"
      ]
     },
     "metadata": {},
     "output_type": "display_data"
    },
    {
     "data": {
      "text/html": [
       "17196"
      ],
      "text/latex": [
       "17196"
      ],
      "text/markdown": [
       "17196"
      ],
      "text/plain": [
       "[1] 17196"
      ]
     },
     "metadata": {},
     "output_type": "display_data"
    },
    {
     "data": {
      "text/html": [
       "<dl>\n",
       "\t<dt>$`&lt;OOV&gt;`</dt>\n",
       "\t\t<dd>1</dd>\n",
       "\t<dt>$a</dt>\n",
       "\t\t<dd>2</dd>\n",
       "\t<dt>$se</dt>\n",
       "\t\t<dd>3</dd>\n",
       "\t<dt>$to</dt>\n",
       "\t\t<dd>4</dd>\n",
       "\t<dt>$na</dt>\n",
       "\t\t<dd>5</dd>\n",
       "\t<dt>$v</dt>\n",
       "\t\t<dd>6</dd>\n",
       "\t<dt>$že</dt>\n",
       "\t\t<dd>7</dd>\n",
       "\t<dt>$je</dt>\n",
       "\t\t<dd>8</dd>\n",
       "\t<dt>$s</dt>\n",
       "\t\t<dd>9</dd>\n",
       "\t<dt>$ale</dt>\n",
       "\t\t<dd>10</dd>\n",
       "\t<dt>$tak</dt>\n",
       "\t\t<dd>11</dd>\n",
       "\t<dt>$do</dt>\n",
       "\t\t<dd>12</dd>\n",
       "\t<dt>$by</dt>\n",
       "\t\t<dd>13</dd>\n",
       "\t<dt>$jako</dt>\n",
       "\t\t<dd>14</dd>\n",
       "\t<dt>$co</dt>\n",
       "\t\t<dd>15</dd>\n",
       "\t<dt>$z</dt>\n",
       "\t\t<dd>16</dd>\n",
       "\t<dt>$k</dt>\n",
       "\t\t<dd>17</dd>\n",
       "\t<dt>$já</dt>\n",
       "\t\t<dd>18</dd>\n",
       "\t<dt>$o</dt>\n",
       "\t\t<dd>19</dd>\n",
       "\t<dt>$za</dt>\n",
       "\t\t<dd>20</dd>\n",
       "</dl>\n"
      ],
      "text/latex": [
       "\\begin{description}\n",
       "\\item[\\$`<OOV>`] 1\n",
       "\\item[\\$a] 2\n",
       "\\item[\\$se] 3\n",
       "\\item[\\$to] 4\n",
       "\\item[\\$na] 5\n",
       "\\item[\\$v] 6\n",
       "\\item[\\$že] 7\n",
       "\\item[\\$je] 8\n",
       "\\item[\\$s] 9\n",
       "\\item[\\$ale] 10\n",
       "\\item[\\$tak] 11\n",
       "\\item[\\$do] 12\n",
       "\\item[\\$by] 13\n",
       "\\item[\\$jako] 14\n",
       "\\item[\\$co] 15\n",
       "\\item[\\$z] 16\n",
       "\\item[\\$k] 17\n",
       "\\item[\\$já] 18\n",
       "\\item[\\$o] 19\n",
       "\\item[\\$za] 20\n",
       "\\end{description}\n"
      ],
      "text/markdown": [
       "$`&lt;OOV&gt;`\n",
       ":   1\n",
       "$a\n",
       ":   2\n",
       "$se\n",
       ":   3\n",
       "$to\n",
       ":   4\n",
       "$na\n",
       ":   5\n",
       "$v\n",
       ":   6\n",
       "$že\n",
       ":   7\n",
       "$je\n",
       ":   8\n",
       "$s\n",
       ":   9\n",
       "$ale\n",
       ":   10\n",
       "$tak\n",
       ":   11\n",
       "$do\n",
       ":   12\n",
       "$by\n",
       ":   13\n",
       "$jako\n",
       ":   14\n",
       "$co\n",
       ":   15\n",
       "$z\n",
       ":   16\n",
       "$k\n",
       ":   17\n",
       "$já\n",
       ":   18\n",
       "$o\n",
       ":   19\n",
       "$za\n",
       ":   20\n",
       "\n",
       "\n"
      ],
      "text/plain": [
       "$`<OOV>`\n",
       "[1] 1\n",
       "\n",
       "$a\n",
       "[1] 2\n",
       "\n",
       "$se\n",
       "[1] 3\n",
       "\n",
       "$to\n",
       "[1] 4\n",
       "\n",
       "$na\n",
       "[1] 5\n",
       "\n",
       "$v\n",
       "[1] 6\n",
       "\n",
       "$že\n",
       "[1] 7\n",
       "\n",
       "$je\n",
       "[1] 8\n",
       "\n",
       "$s\n",
       "[1] 9\n",
       "\n",
       "$ale\n",
       "[1] 10\n",
       "\n",
       "$tak\n",
       "[1] 11\n",
       "\n",
       "$do\n",
       "[1] 12\n",
       "\n",
       "$by\n",
       "[1] 13\n",
       "\n",
       "$jako\n",
       "[1] 14\n",
       "\n",
       "$co\n",
       "[1] 15\n",
       "\n",
       "$z\n",
       "[1] 16\n",
       "\n",
       "$k\n",
       "[1] 17\n",
       "\n",
       "$já\n",
       "[1] 18\n",
       "\n",
       "$o\n",
       "[1] 19\n",
       "\n",
       "$za\n",
       "[1] 20\n"
      ]
     },
     "metadata": {},
     "output_type": "display_data"
    },
    {
     "data": {
      "text/html": [
       "<ol>\n",
       "\t<li><style>\n",
       ".list-inline {list-style: none; margin:0; padding: 0}\n",
       ".list-inline>li {display: inline-block}\n",
       ".list-inline>li:not(:last-child)::after {content: \"\\00b7\"; padding: 0 .5ex}\n",
       "</style>\n",
       "<ol class=list-inline><li>928</li><li>211</li></ol>\n",
       "</li>\n",
       "\t<li><style>\n",
       ".list-inline {list-style: none; margin:0; padding: 0}\n",
       ".list-inline>li {display: inline-block}\n",
       ".list-inline>li:not(:last-child)::after {content: \"\\00b7\"; padding: 0 .5ex}\n",
       "</style>\n",
       "<ol class=list-inline><li>224</li><li>197</li></ol>\n",
       "</li>\n",
       "\t<li><style>\n",
       ".list-inline {list-style: none; margin:0; padding: 0}\n",
       ".list-inline>li {display: inline-block}\n",
       ".list-inline>li:not(:last-child)::after {content: \"\\00b7\"; padding: 0 .5ex}\n",
       "</style>\n",
       "<ol class=list-inline><li>269</li><li>1051</li></ol>\n",
       "</li>\n",
       "\t<li><style>\n",
       ".list-inline {list-style: none; margin:0; padding: 0}\n",
       ".list-inline>li {display: inline-block}\n",
       ".list-inline>li:not(:last-child)::after {content: \"\\00b7\"; padding: 0 .5ex}\n",
       "</style>\n",
       "<ol class=list-inline><li>3439</li><li>198</li><li>60</li><li>327</li></ol>\n",
       "</li>\n",
       "\t<li><style>\n",
       ".list-inline {list-style: none; margin:0; padding: 0}\n",
       ".list-inline>li {display: inline-block}\n",
       ".list-inline>li:not(:last-child)::after {content: \"\\00b7\"; padding: 0 .5ex}\n",
       "</style>\n",
       "<ol class=list-inline><li>1436</li><li>3440</li><li>1052</li><li>514</li><li>515</li><li>5</li><li>1</li><li>1801</li><li>407</li><li>356</li><li>152</li><li>5</li><li>3441</li><li>929</li><li>5</li><li>1802</li><li>47</li><li>1</li><li>10</li><li>1436</li><li>3</li><li>3442</li><li>5</li><li>3443</li><li>144</li><li>579</li><li>580</li><li>198</li><li>128</li><li>60</li><li>327</li><li>15</li><li>4</li><li>8</li><li>3444</li><li>514</li><li>515</li><li>163</li><li>334</li><li>152</li><li>1</li><li>3445</li><li>13</li><li>199</li><li>2</li><li>177</li><li>13</li><li>104</li><li>48</li><li>7</li><li>4</li><li>8</li><li>155</li><li>1</li><li>3446</li><li>6</li><li>1437</li><li>3447</li><li>270</li><li>61</li><li>1</li><li>83</li><li>514</li><li>1</li><li>2</li><li>3448</li><li>11</li><li>1</li><li>14</li><li>1</li><li>24</li><li>1</li><li>7</li><li>516</li><li>9</li><li>1</li><li>122</li><li>79</li><li>41</li><li>1053</li><li>1</li><li>26</li><li>112</li><li>2353</li><li>1</li><li>1</li><li>8</li><li>3449</li><li>1054</li><li>2354</li><li>581</li><li>75</li><li>659</li><li>2</li><li>816</li><li>2</li><li>61</li><li>492</li><li>3450</li><li>2355</li><li>2</li><li>1</li><li>83</li><li>288</li><li>659</li><li>2</li><li>288</li><li>2356</li><li>1438</li><li>2</li><li>7</li><li>8</li><li>26</li><li>5</li><li>245</li><li>64</li><li>3451</li><li>177</li><li>8</li><li>4</li><li>1225</li><li>344</li><li>5</li><li>3452</li><li>1439</li><li>514</li><li>515</li><li>34</li></ol>\n",
       "</li>\n",
       "\t<li><style>\n",
       ".list-inline {list-style: none; margin:0; padding: 0}\n",
       ".list-inline>li {display: inline-block}\n",
       ".list-inline>li:not(:last-child)::after {content: \"\\00b7\"; padding: 0 .5ex}\n",
       "</style>\n",
       "<ol class=list-inline><li>660</li><li>407</li><li>3</li><li>126</li><li>335</li><li>3442</li><li>153</li><li>44</li><li>134</li><li>2357</li><li>33</li><li>1439</li><li>3453</li><li>14</li><li>13</li><li>44</li><li>336</li><li>2358</li><li>1439</li><li>113</li><li>735</li><li>39</li><li>3454</li><li>13</li><li>2359</li><li>2</li><li>345</li><li>13</li><li>64</li><li>6</li><li>58</li><li>1226</li><li>7</li><li>579</li><li>580</li><li>13</li><li>317</li><li>1</li><li>46</li><li>29</li><li>44</li><li>3455</li><li>1</li><li>24</li><li>2360</li><li>2361</li><li>4</li><li>545</li><li>1055</li><li>2</li><li>817</li><li>21</li><li>58</li><li>104</li><li>77</li><li>52</li><li>34</li><li>18</li><li>129</li><li>50</li><li>1439</li><li>1803</li><li>34</li><li>2</li><li>109</li><li>2362</li><li>11</li><li>3456</li><li>34</li><li>2</li><li>1</li><li>22</li><li>246</li></ol>\n",
       "</li>\n",
       "\t<li><style>\n",
       ".list-inline {list-style: none; margin:0; padding: 0}\n",
       ".list-inline>li {display: inline-block}\n",
       ".list-inline>li:not(:last-child)::after {content: \"\\00b7\"; padding: 0 .5ex}\n",
       "</style>\n",
       "<ol class=list-inline><li>2</li><li>3445</li><li>13</li><li>11</li><li>1</li><li>2</li><li>1440</li><li>30</li><li>3</li><li>1804</li><li>5</li><li>3457</li><li>10</li><li>5</li><li>289</li><li>1441</li><li>661</li><li>61</li><li>1</li><li>1</li><li>198</li></ol>\n",
       "</li>\n",
       "\t<li><style>\n",
       ".list-inline {list-style: none; margin:0; padding: 0}\n",
       ".list-inline>li {display: inline-block}\n",
       ".list-inline>li:not(:last-child)::after {content: \"\\00b7\"; padding: 0 .5ex}\n",
       "</style>\n",
       "<ol class=list-inline><li>10</li><li>1436</li><li>216</li><li>1</li><li>1442</li><li>2363</li><li>198</li><li>128</li><li>60</li><li>327</li><li>31</li><li>22</li><li>345</li><li>2</li><li>1</li><li>29</li><li>164</li><li>217</li><li>407</li><li>3</li><li>1</li><li>181</li></ol>\n",
       "</li>\n",
       "\t<li><style>\n",
       ".list-inline {list-style: none; margin:0; padding: 0}\n",
       ".list-inline>li {display: inline-block}\n",
       ".list-inline>li:not(:last-child)::after {content: \"\\00b7\"; padding: 0 .5ex}\n",
       "</style>\n",
       "<ol class=list-inline><li>736</li><li>52</li><li>5</li><li>384</li><li>346</li><li>7</li><li>22</li><li>1056</li><li>1</li></ol>\n",
       "</li>\n",
       "\t<li><style>\n",
       ".list-inline {list-style: none; margin:0; padding: 0}\n",
       ".list-inline>li {display: inline-block}\n",
       ".list-inline>li:not(:last-child)::after {content: \"\\00b7\"; padding: 0 .5ex}\n",
       "</style>\n",
       "<ol class=list-inline><li>68</li><li>126</li><li>1057</li><li>66</li><li>1</li><li>22</li><li>2364</li><li>737</li><li>582</li><li>11</li><li>3</li><li>3458</li><li>34</li><li>1</li><li>36</li><li>70</li><li>1</li><li>56</li><li>132</li><li>6</li><li>1805</li><li>70</li><li>3459</li><li>1</li><li>41</li><li>3460</li><li>22</li><li>1</li><li>105</li><li>218</li><li>170</li><li>1</li><li>3</li><li>21</li><li>930</li><li>1227</li></ol>\n",
       "</li>\n",
       "</ol>\n"
      ],
      "text/latex": [
       "\\begin{enumerate}\n",
       "\\item \\begin{enumerate*}\n",
       "\\item 928\n",
       "\\item 211\n",
       "\\end{enumerate*}\n",
       "\n",
       "\\item \\begin{enumerate*}\n",
       "\\item 224\n",
       "\\item 197\n",
       "\\end{enumerate*}\n",
       "\n",
       "\\item \\begin{enumerate*}\n",
       "\\item 269\n",
       "\\item 1051\n",
       "\\end{enumerate*}\n",
       "\n",
       "\\item \\begin{enumerate*}\n",
       "\\item 3439\n",
       "\\item 198\n",
       "\\item 60\n",
       "\\item 327\n",
       "\\end{enumerate*}\n",
       "\n",
       "\\item \\begin{enumerate*}\n",
       "\\item 1436\n",
       "\\item 3440\n",
       "\\item 1052\n",
       "\\item 514\n",
       "\\item 515\n",
       "\\item 5\n",
       "\\item 1\n",
       "\\item 1801\n",
       "\\item 407\n",
       "\\item 356\n",
       "\\item 152\n",
       "\\item 5\n",
       "\\item 3441\n",
       "\\item 929\n",
       "\\item 5\n",
       "\\item 1802\n",
       "\\item 47\n",
       "\\item 1\n",
       "\\item 10\n",
       "\\item 1436\n",
       "\\item 3\n",
       "\\item 3442\n",
       "\\item 5\n",
       "\\item 3443\n",
       "\\item 144\n",
       "\\item 579\n",
       "\\item 580\n",
       "\\item 198\n",
       "\\item 128\n",
       "\\item 60\n",
       "\\item 327\n",
       "\\item 15\n",
       "\\item 4\n",
       "\\item 8\n",
       "\\item 3444\n",
       "\\item 514\n",
       "\\item 515\n",
       "\\item 163\n",
       "\\item 334\n",
       "\\item 152\n",
       "\\item 1\n",
       "\\item 3445\n",
       "\\item 13\n",
       "\\item 199\n",
       "\\item 2\n",
       "\\item 177\n",
       "\\item 13\n",
       "\\item 104\n",
       "\\item 48\n",
       "\\item 7\n",
       "\\item 4\n",
       "\\item 8\n",
       "\\item 155\n",
       "\\item 1\n",
       "\\item 3446\n",
       "\\item 6\n",
       "\\item 1437\n",
       "\\item 3447\n",
       "\\item 270\n",
       "\\item 61\n",
       "\\item 1\n",
       "\\item 83\n",
       "\\item 514\n",
       "\\item 1\n",
       "\\item 2\n",
       "\\item 3448\n",
       "\\item 11\n",
       "\\item 1\n",
       "\\item 14\n",
       "\\item 1\n",
       "\\item 24\n",
       "\\item 1\n",
       "\\item 7\n",
       "\\item 516\n",
       "\\item 9\n",
       "\\item 1\n",
       "\\item 122\n",
       "\\item 79\n",
       "\\item 41\n",
       "\\item 1053\n",
       "\\item 1\n",
       "\\item 26\n",
       "\\item 112\n",
       "\\item 2353\n",
       "\\item 1\n",
       "\\item 1\n",
       "\\item 8\n",
       "\\item 3449\n",
       "\\item 1054\n",
       "\\item 2354\n",
       "\\item 581\n",
       "\\item 75\n",
       "\\item 659\n",
       "\\item 2\n",
       "\\item 816\n",
       "\\item 2\n",
       "\\item 61\n",
       "\\item 492\n",
       "\\item 3450\n",
       "\\item 2355\n",
       "\\item 2\n",
       "\\item 1\n",
       "\\item 83\n",
       "\\item 288\n",
       "\\item 659\n",
       "\\item 2\n",
       "\\item 288\n",
       "\\item 2356\n",
       "\\item 1438\n",
       "\\item 2\n",
       "\\item 7\n",
       "\\item 8\n",
       "\\item 26\n",
       "\\item 5\n",
       "\\item 245\n",
       "\\item 64\n",
       "\\item 3451\n",
       "\\item 177\n",
       "\\item 8\n",
       "\\item 4\n",
       "\\item 1225\n",
       "\\item 344\n",
       "\\item 5\n",
       "\\item 3452\n",
       "\\item 1439\n",
       "\\item 514\n",
       "\\item 515\n",
       "\\item 34\n",
       "\\end{enumerate*}\n",
       "\n",
       "\\item \\begin{enumerate*}\n",
       "\\item 660\n",
       "\\item 407\n",
       "\\item 3\n",
       "\\item 126\n",
       "\\item 335\n",
       "\\item 3442\n",
       "\\item 153\n",
       "\\item 44\n",
       "\\item 134\n",
       "\\item 2357\n",
       "\\item 33\n",
       "\\item 1439\n",
       "\\item 3453\n",
       "\\item 14\n",
       "\\item 13\n",
       "\\item 44\n",
       "\\item 336\n",
       "\\item 2358\n",
       "\\item 1439\n",
       "\\item 113\n",
       "\\item 735\n",
       "\\item 39\n",
       "\\item 3454\n",
       "\\item 13\n",
       "\\item 2359\n",
       "\\item 2\n",
       "\\item 345\n",
       "\\item 13\n",
       "\\item 64\n",
       "\\item 6\n",
       "\\item 58\n",
       "\\item 1226\n",
       "\\item 7\n",
       "\\item 579\n",
       "\\item 580\n",
       "\\item 13\n",
       "\\item 317\n",
       "\\item 1\n",
       "\\item 46\n",
       "\\item 29\n",
       "\\item 44\n",
       "\\item 3455\n",
       "\\item 1\n",
       "\\item 24\n",
       "\\item 2360\n",
       "\\item 2361\n",
       "\\item 4\n",
       "\\item 545\n",
       "\\item 1055\n",
       "\\item 2\n",
       "\\item 817\n",
       "\\item 21\n",
       "\\item 58\n",
       "\\item 104\n",
       "\\item 77\n",
       "\\item 52\n",
       "\\item 34\n",
       "\\item 18\n",
       "\\item 129\n",
       "\\item 50\n",
       "\\item 1439\n",
       "\\item 1803\n",
       "\\item 34\n",
       "\\item 2\n",
       "\\item 109\n",
       "\\item 2362\n",
       "\\item 11\n",
       "\\item 3456\n",
       "\\item 34\n",
       "\\item 2\n",
       "\\item 1\n",
       "\\item 22\n",
       "\\item 246\n",
       "\\end{enumerate*}\n",
       "\n",
       "\\item \\begin{enumerate*}\n",
       "\\item 2\n",
       "\\item 3445\n",
       "\\item 13\n",
       "\\item 11\n",
       "\\item 1\n",
       "\\item 2\n",
       "\\item 1440\n",
       "\\item 30\n",
       "\\item 3\n",
       "\\item 1804\n",
       "\\item 5\n",
       "\\item 3457\n",
       "\\item 10\n",
       "\\item 5\n",
       "\\item 289\n",
       "\\item 1441\n",
       "\\item 661\n",
       "\\item 61\n",
       "\\item 1\n",
       "\\item 1\n",
       "\\item 198\n",
       "\\end{enumerate*}\n",
       "\n",
       "\\item \\begin{enumerate*}\n",
       "\\item 10\n",
       "\\item 1436\n",
       "\\item 216\n",
       "\\item 1\n",
       "\\item 1442\n",
       "\\item 2363\n",
       "\\item 198\n",
       "\\item 128\n",
       "\\item 60\n",
       "\\item 327\n",
       "\\item 31\n",
       "\\item 22\n",
       "\\item 345\n",
       "\\item 2\n",
       "\\item 1\n",
       "\\item 29\n",
       "\\item 164\n",
       "\\item 217\n",
       "\\item 407\n",
       "\\item 3\n",
       "\\item 1\n",
       "\\item 181\n",
       "\\end{enumerate*}\n",
       "\n",
       "\\item \\begin{enumerate*}\n",
       "\\item 736\n",
       "\\item 52\n",
       "\\item 5\n",
       "\\item 384\n",
       "\\item 346\n",
       "\\item 7\n",
       "\\item 22\n",
       "\\item 1056\n",
       "\\item 1\n",
       "\\end{enumerate*}\n",
       "\n",
       "\\item \\begin{enumerate*}\n",
       "\\item 68\n",
       "\\item 126\n",
       "\\item 1057\n",
       "\\item 66\n",
       "\\item 1\n",
       "\\item 22\n",
       "\\item 2364\n",
       "\\item 737\n",
       "\\item 582\n",
       "\\item 11\n",
       "\\item 3\n",
       "\\item 3458\n",
       "\\item 34\n",
       "\\item 1\n",
       "\\item 36\n",
       "\\item 70\n",
       "\\item 1\n",
       "\\item 56\n",
       "\\item 132\n",
       "\\item 6\n",
       "\\item 1805\n",
       "\\item 70\n",
       "\\item 3459\n",
       "\\item 1\n",
       "\\item 41\n",
       "\\item 3460\n",
       "\\item 22\n",
       "\\item 1\n",
       "\\item 105\n",
       "\\item 218\n",
       "\\item 170\n",
       "\\item 1\n",
       "\\item 3\n",
       "\\item 21\n",
       "\\item 930\n",
       "\\item 1227\n",
       "\\end{enumerate*}\n",
       "\n",
       "\\end{enumerate}\n"
      ],
      "text/markdown": [
       "1. 1. 928\n",
       "2. 211\n",
       "\n",
       "\n",
       "\n",
       "2. 1. 224\n",
       "2. 197\n",
       "\n",
       "\n",
       "\n",
       "3. 1. 269\n",
       "2. 1051\n",
       "\n",
       "\n",
       "\n",
       "4. 1. 3439\n",
       "2. 198\n",
       "3. 60\n",
       "4. 327\n",
       "\n",
       "\n",
       "\n",
       "5. 1. 1436\n",
       "2. 3440\n",
       "3. 1052\n",
       "4. 514\n",
       "5. 515\n",
       "6. 5\n",
       "7. 1\n",
       "8. 1801\n",
       "9. 407\n",
       "10. 356\n",
       "11. 152\n",
       "12. 5\n",
       "13. 3441\n",
       "14. 929\n",
       "15. 5\n",
       "16. 1802\n",
       "17. 47\n",
       "18. 1\n",
       "19. 10\n",
       "20. 1436\n",
       "21. 3\n",
       "22. 3442\n",
       "23. 5\n",
       "24. 3443\n",
       "25. 144\n",
       "26. 579\n",
       "27. 580\n",
       "28. 198\n",
       "29. 128\n",
       "30. 60\n",
       "31. 327\n",
       "32. 15\n",
       "33. 4\n",
       "34. 8\n",
       "35. 3444\n",
       "36. 514\n",
       "37. 515\n",
       "38. 163\n",
       "39. 334\n",
       "40. 152\n",
       "41. 1\n",
       "42. 3445\n",
       "43. 13\n",
       "44. 199\n",
       "45. 2\n",
       "46. 177\n",
       "47. 13\n",
       "48. 104\n",
       "49. 48\n",
       "50. 7\n",
       "51. 4\n",
       "52. 8\n",
       "53. 155\n",
       "54. 1\n",
       "55. 3446\n",
       "56. 6\n",
       "57. 1437\n",
       "58. 3447\n",
       "59. 270\n",
       "60. 61\n",
       "61. 1\n",
       "62. 83\n",
       "63. 514\n",
       "64. 1\n",
       "65. 2\n",
       "66. 3448\n",
       "67. 11\n",
       "68. 1\n",
       "69. 14\n",
       "70. 1\n",
       "71. 24\n",
       "72. 1\n",
       "73. 7\n",
       "74. 516\n",
       "75. 9\n",
       "76. 1\n",
       "77. 122\n",
       "78. 79\n",
       "79. 41\n",
       "80. 1053\n",
       "81. 1\n",
       "82. 26\n",
       "83. 112\n",
       "84. 2353\n",
       "85. 1\n",
       "86. 1\n",
       "87. 8\n",
       "88. 3449\n",
       "89. 1054\n",
       "90. 2354\n",
       "91. 581\n",
       "92. 75\n",
       "93. 659\n",
       "94. 2\n",
       "95. 816\n",
       "96. 2\n",
       "97. 61\n",
       "98. 492\n",
       "99. 3450\n",
       "100. 2355\n",
       "101. 2\n",
       "102. 1\n",
       "103. 83\n",
       "104. 288\n",
       "105. 659\n",
       "106. 2\n",
       "107. 288\n",
       "108. 2356\n",
       "109. 1438\n",
       "110. 2\n",
       "111. 7\n",
       "112. 8\n",
       "113. 26\n",
       "114. 5\n",
       "115. 245\n",
       "116. 64\n",
       "117. 3451\n",
       "118. 177\n",
       "119. 8\n",
       "120. 4\n",
       "121. 1225\n",
       "122. 344\n",
       "123. 5\n",
       "124. 3452\n",
       "125. 1439\n",
       "126. 514\n",
       "127. 515\n",
       "128. 34\n",
       "\n",
       "\n",
       "\n",
       "6. 1. 660\n",
       "2. 407\n",
       "3. 3\n",
       "4. 126\n",
       "5. 335\n",
       "6. 3442\n",
       "7. 153\n",
       "8. 44\n",
       "9. 134\n",
       "10. 2357\n",
       "11. 33\n",
       "12. 1439\n",
       "13. 3453\n",
       "14. 14\n",
       "15. 13\n",
       "16. 44\n",
       "17. 336\n",
       "18. 2358\n",
       "19. 1439\n",
       "20. 113\n",
       "21. 735\n",
       "22. 39\n",
       "23. 3454\n",
       "24. 13\n",
       "25. 2359\n",
       "26. 2\n",
       "27. 345\n",
       "28. 13\n",
       "29. 64\n",
       "30. 6\n",
       "31. 58\n",
       "32. 1226\n",
       "33. 7\n",
       "34. 579\n",
       "35. 580\n",
       "36. 13\n",
       "37. 317\n",
       "38. 1\n",
       "39. 46\n",
       "40. 29\n",
       "41. 44\n",
       "42. 3455\n",
       "43. 1\n",
       "44. 24\n",
       "45. 2360\n",
       "46. 2361\n",
       "47. 4\n",
       "48. 545\n",
       "49. 1055\n",
       "50. 2\n",
       "51. 817\n",
       "52. 21\n",
       "53. 58\n",
       "54. 104\n",
       "55. 77\n",
       "56. 52\n",
       "57. 34\n",
       "58. 18\n",
       "59. 129\n",
       "60. 50\n",
       "61. 1439\n",
       "62. 1803\n",
       "63. 34\n",
       "64. 2\n",
       "65. 109\n",
       "66. 2362\n",
       "67. 11\n",
       "68. 3456\n",
       "69. 34\n",
       "70. 2\n",
       "71. 1\n",
       "72. 22\n",
       "73. 246\n",
       "\n",
       "\n",
       "\n",
       "7. 1. 2\n",
       "2. 3445\n",
       "3. 13\n",
       "4. 11\n",
       "5. 1\n",
       "6. 2\n",
       "7. 1440\n",
       "8. 30\n",
       "9. 3\n",
       "10. 1804\n",
       "11. 5\n",
       "12. 3457\n",
       "13. 10\n",
       "14. 5\n",
       "15. 289\n",
       "16. 1441\n",
       "17. 661\n",
       "18. 61\n",
       "19. 1\n",
       "20. 1\n",
       "21. 198\n",
       "\n",
       "\n",
       "\n",
       "8. 1. 10\n",
       "2. 1436\n",
       "3. 216\n",
       "4. 1\n",
       "5. 1442\n",
       "6. 2363\n",
       "7. 198\n",
       "8. 128\n",
       "9. 60\n",
       "10. 327\n",
       "11. 31\n",
       "12. 22\n",
       "13. 345\n",
       "14. 2\n",
       "15. 1\n",
       "16. 29\n",
       "17. 164\n",
       "18. 217\n",
       "19. 407\n",
       "20. 3\n",
       "21. 1\n",
       "22. 181\n",
       "\n",
       "\n",
       "\n",
       "9. 1. 736\n",
       "2. 52\n",
       "3. 5\n",
       "4. 384\n",
       "5. 346\n",
       "6. 7\n",
       "7. 22\n",
       "8. 1056\n",
       "9. 1\n",
       "\n",
       "\n",
       "\n",
       "10. 1. 68\n",
       "2. 126\n",
       "3. 1057\n",
       "4. 66\n",
       "5. 1\n",
       "6. 22\n",
       "7. 2364\n",
       "8. 737\n",
       "9. 582\n",
       "10. 11\n",
       "11. 3\n",
       "12. 3458\n",
       "13. 34\n",
       "14. 1\n",
       "15. 36\n",
       "16. 70\n",
       "17. 1\n",
       "18. 56\n",
       "19. 132\n",
       "20. 6\n",
       "21. 1805\n",
       "22. 70\n",
       "23. 3459\n",
       "24. 1\n",
       "25. 41\n",
       "26. 3460\n",
       "27. 22\n",
       "28. 1\n",
       "29. 105\n",
       "30. 218\n",
       "31. 170\n",
       "32. 1\n",
       "33. 3\n",
       "34. 21\n",
       "35. 930\n",
       "36. 1227\n",
       "\n",
       "\n",
       "\n",
       "\n",
       "\n"
      ],
      "text/plain": [
       "[[1]]\n",
       "[1] 928 211\n",
       "\n",
       "[[2]]\n",
       "[1] 224 197\n",
       "\n",
       "[[3]]\n",
       "[1]  269 1051\n",
       "\n",
       "[[4]]\n",
       "[1] 3439  198   60  327\n",
       "\n",
       "[[5]]\n",
       "  [1] 1436 3440 1052  514  515    5    1 1801  407  356  152    5 3441  929    5\n",
       " [16] 1802   47    1   10 1436    3 3442    5 3443  144  579  580  198  128   60\n",
       " [31]  327   15    4    8 3444  514  515  163  334  152    1 3445   13  199    2\n",
       " [46]  177   13  104   48    7    4    8  155    1 3446    6 1437 3447  270   61\n",
       " [61]    1   83  514    1    2 3448   11    1   14    1   24    1    7  516    9\n",
       " [76]    1  122   79   41 1053    1   26  112 2353    1    1    8 3449 1054 2354\n",
       " [91]  581   75  659    2  816    2   61  492 3450 2355    2    1   83  288  659\n",
       "[106]    2  288 2356 1438    2    7    8   26    5  245   64 3451  177    8    4\n",
       "[121] 1225  344    5 3452 1439  514  515   34\n",
       "\n",
       "[[6]]\n",
       " [1]  660  407    3  126  335 3442  153   44  134 2357   33 1439 3453   14   13\n",
       "[16]   44  336 2358 1439  113  735   39 3454   13 2359    2  345   13   64    6\n",
       "[31]   58 1226    7  579  580   13  317    1   46   29   44 3455    1   24 2360\n",
       "[46] 2361    4  545 1055    2  817   21   58  104   77   52   34   18  129   50\n",
       "[61] 1439 1803   34    2  109 2362   11 3456   34    2    1   22  246\n",
       "\n",
       "[[7]]\n",
       " [1]    2 3445   13   11    1    2 1440   30    3 1804    5 3457   10    5  289\n",
       "[16] 1441  661   61    1    1  198\n",
       "\n",
       "[[8]]\n",
       " [1]   10 1436  216    1 1442 2363  198  128   60  327   31   22  345    2    1\n",
       "[16]   29  164  217  407    3    1  181\n",
       "\n",
       "[[9]]\n",
       "[1]  736   52    5  384  346    7   22 1056    1\n",
       "\n",
       "[[10]]\n",
       " [1]   68  126 1057   66    1   22 2364  737  582   11    3 3458   34    1   36\n",
       "[16]   70    1   56  132    6 1805   70 3459    1   41 3460   22    1  105  218\n",
       "[31]  170    1    3   21  930 1227\n"
      ]
     },
     "metadata": {},
     "output_type": "display_data"
    }
   ],
   "source": [
    "tokenizer$document_count\n",
    "length(tokenizer$word_index)\n",
    "tokenizer$word_index[1:20]\n",
    "sequences[1:10]\n"
   ]
  },
  {
   "cell_type": "code",
   "execution_count": 10,
   "metadata": {
    "execution": {
     "iopub.execute_input": "2020-11-19T19:48:27.493765Z",
     "iopub.status.busy": "2020-11-19T19:48:27.491876Z",
     "iopub.status.idle": "2020-11-19T19:48:36.380114Z",
     "shell.execute_reply": "2020-11-19T19:48:36.378435Z"
    },
    "papermill": {
     "duration": 8.926868,
     "end_time": "2020-11-19T19:48:36.380473",
     "exception": false,
     "start_time": "2020-11-19T19:48:27.453605",
     "status": "completed"
    },
    "tags": []
   },
   "outputs": [
    {
     "data": {
      "text/html": [
       "<table class=\"dataframe\">\n",
       "<caption>A tibble: 17195 × 2</caption>\n",
       "<thead>\n",
       "\t<tr><th scope=col>word</th><th scope=col>n</th></tr>\n",
       "\t<tr><th scope=col>&lt;chr&gt;</th><th scope=col>&lt;int&gt;</th></tr>\n",
       "</thead>\n",
       "<tbody>\n",
       "\t<tr><td>a    </td><td>2314</td></tr>\n",
       "\t<tr><td>se   </td><td>1744</td></tr>\n",
       "\t<tr><td>to   </td><td>1051</td></tr>\n",
       "\t<tr><td>na   </td><td>1029</td></tr>\n",
       "\t<tr><td>v    </td><td> 879</td></tr>\n",
       "\t<tr><td>že   </td><td> 715</td></tr>\n",
       "\t<tr><td>je   </td><td> 712</td></tr>\n",
       "\t<tr><td>s    </td><td> 443</td></tr>\n",
       "\t<tr><td>ale  </td><td> 399</td></tr>\n",
       "\t<tr><td>tak  </td><td> 377</td></tr>\n",
       "\t<tr><td>do   </td><td> 368</td></tr>\n",
       "\t<tr><td>by   </td><td> 324</td></tr>\n",
       "\t<tr><td>jako </td><td> 307</td></tr>\n",
       "\t<tr><td>co   </td><td> 299</td></tr>\n",
       "\t<tr><td>z    </td><td> 299</td></tr>\n",
       "\t<tr><td>k    </td><td> 286</td></tr>\n",
       "\t<tr><td>já   </td><td> 278</td></tr>\n",
       "\t<tr><td>o    </td><td> 275</td></tr>\n",
       "\t<tr><td>za   </td><td> 263</td></tr>\n",
       "\t<tr><td>po   </td><td> 251</td></tr>\n",
       "\t<tr><td>si   </td><td> 239</td></tr>\n",
       "\t<tr><td>už   </td><td> 233</td></tr>\n",
       "\t<tr><td>nebo </td><td> 223</td></tr>\n",
       "\t<tr><td>ve   </td><td> 223</td></tr>\n",
       "\t<tr><td>li   </td><td> 220</td></tr>\n",
       "\t<tr><td>mloci</td><td> 215</td></tr>\n",
       "\t<tr><td>byl  </td><td> 213</td></tr>\n",
       "\t<tr><td>pro  </td><td> 209</td></tr>\n",
       "\t<tr><td>jak  </td><td> 207</td></tr>\n",
       "\t<tr><td>aby  </td><td> 205</td></tr>\n",
       "\t<tr><td>⋮</td><td>⋮</td></tr>\n",
       "\t<tr><td>vpustí      </td><td>1</td></tr>\n",
       "\t<tr><td>jedy        </td><td>1</td></tr>\n",
       "\t<tr><td>zhoubných   </td><td>1</td></tr>\n",
       "\t<tr><td>bakterií    </td><td>1</td></tr>\n",
       "\t<tr><td>zamoří      </td><td>1</td></tr>\n",
       "\t<tr><td>oceány      </td><td>1</td></tr>\n",
       "\t<tr><td>infikováno  </td><td>1</td></tr>\n",
       "\t<tr><td>vypěstovaným</td><td>1</td></tr>\n",
       "\t<tr><td>žaberním    </td><td>1</td></tr>\n",
       "\t<tr><td>vyhynou     </td><td>1</td></tr>\n",
       "\t<tr><td>posledního  </td><td>1</td></tr>\n",
       "\t<tr><td>vymřelý     </td><td>1</td></tr>\n",
       "\t<tr><td>uchová      </td><td>1</td></tr>\n",
       "\t<tr><td>öhningenský </td><td>1</td></tr>\n",
       "\t<tr><td>ah          </td><td>1</td></tr>\n",
       "\t<tr><td>smrdět      </td><td>1</td></tr>\n",
       "\t<tr><td>rozkladem   </td><td>1</td></tr>\n",
       "\t<tr><td>porostou    </td><td>1</td></tr>\n",
       "\t<tr><td>nánosem     </td><td>1</td></tr>\n",
       "\t<tr><td>ustoupí     </td><td>1</td></tr>\n",
       "\t<tr><td>vznikne     </td><td>1</td></tr>\n",
       "\t<tr><td>legenda     </td><td>1</td></tr>\n",
       "\t<tr><td>potopě      </td><td>1</td></tr>\n",
       "\t<tr><td>seslal      </td><td>1</td></tr>\n",
       "\t<tr><td>hříchy      </td><td>1</td></tr>\n",
       "\t<tr><td>zkazky      </td><td>1</td></tr>\n",
       "\t<tr><td>potopených  </td><td>1</td></tr>\n",
       "\t<tr><td>mytických   </td><td>1</td></tr>\n",
       "\t<tr><td>kolébkou    </td><td>1</td></tr>\n",
       "\t<tr><td>bájit       </td><td>1</td></tr>\n",
       "</tbody>\n",
       "</table>\n"
      ],
      "text/latex": [
       "A tibble: 17195 × 2\n",
       "\\begin{tabular}{ll}\n",
       " word & n\\\\\n",
       " <chr> & <int>\\\\\n",
       "\\hline\n",
       "\t a     & 2314\\\\\n",
       "\t se    & 1744\\\\\n",
       "\t to    & 1051\\\\\n",
       "\t na    & 1029\\\\\n",
       "\t v     &  879\\\\\n",
       "\t že    &  715\\\\\n",
       "\t je    &  712\\\\\n",
       "\t s     &  443\\\\\n",
       "\t ale   &  399\\\\\n",
       "\t tak   &  377\\\\\n",
       "\t do    &  368\\\\\n",
       "\t by    &  324\\\\\n",
       "\t jako  &  307\\\\\n",
       "\t co    &  299\\\\\n",
       "\t z     &  299\\\\\n",
       "\t k     &  286\\\\\n",
       "\t já    &  278\\\\\n",
       "\t o     &  275\\\\\n",
       "\t za    &  263\\\\\n",
       "\t po    &  251\\\\\n",
       "\t si    &  239\\\\\n",
       "\t už    &  233\\\\\n",
       "\t nebo  &  223\\\\\n",
       "\t ve    &  223\\\\\n",
       "\t li    &  220\\\\\n",
       "\t mloci &  215\\\\\n",
       "\t byl   &  213\\\\\n",
       "\t pro   &  209\\\\\n",
       "\t jak   &  207\\\\\n",
       "\t aby   &  205\\\\\n",
       "\t ⋮ & ⋮\\\\\n",
       "\t vpustí       & 1\\\\\n",
       "\t jedy         & 1\\\\\n",
       "\t zhoubných    & 1\\\\\n",
       "\t bakterií     & 1\\\\\n",
       "\t zamoří       & 1\\\\\n",
       "\t oceány       & 1\\\\\n",
       "\t infikováno   & 1\\\\\n",
       "\t vypěstovaným & 1\\\\\n",
       "\t žaberním     & 1\\\\\n",
       "\t vyhynou      & 1\\\\\n",
       "\t posledního   & 1\\\\\n",
       "\t vymřelý      & 1\\\\\n",
       "\t uchová       & 1\\\\\n",
       "\t öhningenský  & 1\\\\\n",
       "\t ah           & 1\\\\\n",
       "\t smrdět       & 1\\\\\n",
       "\t rozkladem    & 1\\\\\n",
       "\t porostou     & 1\\\\\n",
       "\t nánosem      & 1\\\\\n",
       "\t ustoupí      & 1\\\\\n",
       "\t vznikne      & 1\\\\\n",
       "\t legenda      & 1\\\\\n",
       "\t potopě       & 1\\\\\n",
       "\t seslal       & 1\\\\\n",
       "\t hříchy       & 1\\\\\n",
       "\t zkazky       & 1\\\\\n",
       "\t potopených   & 1\\\\\n",
       "\t mytických    & 1\\\\\n",
       "\t kolébkou     & 1\\\\\n",
       "\t bájit        & 1\\\\\n",
       "\\end{tabular}\n"
      ],
      "text/markdown": [
       "\n",
       "A tibble: 17195 × 2\n",
       "\n",
       "| word &lt;chr&gt; | n &lt;int&gt; |\n",
       "|---|---|\n",
       "| a     | 2314 |\n",
       "| se    | 1744 |\n",
       "| to    | 1051 |\n",
       "| na    | 1029 |\n",
       "| v     |  879 |\n",
       "| že    |  715 |\n",
       "| je    |  712 |\n",
       "| s     |  443 |\n",
       "| ale   |  399 |\n",
       "| tak   |  377 |\n",
       "| do    |  368 |\n",
       "| by    |  324 |\n",
       "| jako  |  307 |\n",
       "| co    |  299 |\n",
       "| z     |  299 |\n",
       "| k     |  286 |\n",
       "| já    |  278 |\n",
       "| o     |  275 |\n",
       "| za    |  263 |\n",
       "| po    |  251 |\n",
       "| si    |  239 |\n",
       "| už    |  233 |\n",
       "| nebo  |  223 |\n",
       "| ve    |  223 |\n",
       "| li    |  220 |\n",
       "| mloci |  215 |\n",
       "| byl   |  213 |\n",
       "| pro   |  209 |\n",
       "| jak   |  207 |\n",
       "| aby   |  205 |\n",
       "| ⋮ | ⋮ |\n",
       "| vpustí       | 1 |\n",
       "| jedy         | 1 |\n",
       "| zhoubných    | 1 |\n",
       "| bakterií     | 1 |\n",
       "| zamoří       | 1 |\n",
       "| oceány       | 1 |\n",
       "| infikováno   | 1 |\n",
       "| vypěstovaným | 1 |\n",
       "| žaberním     | 1 |\n",
       "| vyhynou      | 1 |\n",
       "| posledního   | 1 |\n",
       "| vymřelý      | 1 |\n",
       "| uchová       | 1 |\n",
       "| öhningenský  | 1 |\n",
       "| ah           | 1 |\n",
       "| smrdět       | 1 |\n",
       "| rozkladem    | 1 |\n",
       "| porostou     | 1 |\n",
       "| nánosem      | 1 |\n",
       "| ustoupí      | 1 |\n",
       "| vznikne      | 1 |\n",
       "| legenda      | 1 |\n",
       "| potopě       | 1 |\n",
       "| seslal       | 1 |\n",
       "| hříchy       | 1 |\n",
       "| zkazky       | 1 |\n",
       "| potopených   | 1 |\n",
       "| mytických    | 1 |\n",
       "| kolébkou     | 1 |\n",
       "| bájit        | 1 |\n",
       "\n"
      ],
      "text/plain": [
       "      word         n   \n",
       "1     a            2314\n",
       "2     se           1744\n",
       "3     to           1051\n",
       "4     na           1029\n",
       "5     v             879\n",
       "6     že            715\n",
       "7     je            712\n",
       "8     s             443\n",
       "9     ale           399\n",
       "10    tak           377\n",
       "11    do            368\n",
       "12    by            324\n",
       "13    jako          307\n",
       "14    co            299\n",
       "15    z             299\n",
       "16    k             286\n",
       "17    já            278\n",
       "18    o             275\n",
       "19    za            263\n",
       "20    po            251\n",
       "21    si            239\n",
       "22    už            233\n",
       "23    nebo          223\n",
       "24    ve            223\n",
       "25    li            220\n",
       "26    mloci         215\n",
       "27    byl           213\n",
       "28    pro           209\n",
       "29    jak           207\n",
       "30    aby           205\n",
       "⋮     ⋮            ⋮   \n",
       "17166 vpustí       1   \n",
       "17167 jedy         1   \n",
       "17168 zhoubných    1   \n",
       "17169 bakterií     1   \n",
       "17170 zamoří       1   \n",
       "17171 oceány       1   \n",
       "17172 infikováno   1   \n",
       "17173 vypěstovaným 1   \n",
       "17174 žaberním     1   \n",
       "17175 vyhynou      1   \n",
       "17176 posledního   1   \n",
       "17177 vymřelý      1   \n",
       "17178 uchová       1   \n",
       "17179 öhningenský  1   \n",
       "17180 ah           1   \n",
       "17181 smrdět       1   \n",
       "17182 rozkladem    1   \n",
       "17183 porostou     1   \n",
       "17184 nánosem      1   \n",
       "17185 ustoupí      1   \n",
       "17186 vznikne      1   \n",
       "17187 legenda      1   \n",
       "17188 potopě       1   \n",
       "17189 seslal       1   \n",
       "17190 hříchy       1   \n",
       "17191 zkazky       1   \n",
       "17192 potopených   1   \n",
       "17193 mytických    1   \n",
       "17194 kolébkou     1   \n",
       "17195 bájit        1   "
      ]
     },
     "metadata": {},
     "output_type": "display_data"
    }
   ],
   "source": [
    "# the most frequent words in the text\n",
    "tokenizer$word_counts %>% enframe(., name = \"word\", value = \"n\") %>%\n",
    "  mutate(n = as.integer(n)) %>% arrange(desc(n))"
   ]
  },
  {
   "cell_type": "code",
   "execution_count": 11,
   "metadata": {
    "execution": {
     "iopub.execute_input": "2020-11-19T19:48:36.461417Z",
     "iopub.status.busy": "2020-11-19T19:48:36.459888Z",
     "iopub.status.idle": "2020-11-19T19:48:36.499068Z",
     "shell.execute_reply": "2020-11-19T19:48:36.497602Z"
    },
    "papermill": {
     "duration": 0.080122,
     "end_time": "2020-11-19T19:48:36.499235",
     "exception": false,
     "start_time": "2020-11-19T19:48:36.419113",
     "status": "completed"
    },
    "tags": []
   },
   "outputs": [],
   "source": [
    "# sequences of length 0 or 1\n",
    "del_seq <- c()\n",
    "join_seq <- c()\n",
    "for (i in 1:length(sequences)){\n",
    "    if (length(unlist(sequences[i])) == 0){del_seq <- c(del_seq, i)}\n",
    "    if (length(unlist(sequences[i])) == 1){join_seq <- c(join_seq, i)}\n",
    "}"
   ]
  },
  {
   "cell_type": "code",
   "execution_count": 12,
   "metadata": {
    "execution": {
     "iopub.execute_input": "2020-11-19T19:48:36.576353Z",
     "iopub.status.busy": "2020-11-19T19:48:36.574723Z",
     "iopub.status.idle": "2020-11-19T19:48:36.599785Z",
     "shell.execute_reply": "2020-11-19T19:48:36.598290Z"
    },
    "papermill": {
     "duration": 0.064482,
     "end_time": "2020-11-19T19:48:36.599917",
     "exception": false,
     "start_time": "2020-11-19T19:48:36.535435",
     "status": "completed"
    },
    "tags": []
   },
   "outputs": [],
   "source": [
    "# concat length 1 sequences with the subsequent sequence\n",
    "for(i in join_seq){\n",
    "     valka_s_mloky[i+1] <- paste(valka_s_mloky[i], valka_s_mloky[i+1])\n",
    "     valka_s_mloky[i] <- \"\"\n",
    "     sequences[i+1] <- list(c(unlist(sequences[i]), unlist(sequences[i+1])))\n",
    "     sequences[i] <- \"\"\n",
    "}"
   ]
  },
  {
   "cell_type": "code",
   "execution_count": 13,
   "metadata": {
    "execution": {
     "iopub.execute_input": "2020-11-19T19:48:36.678614Z",
     "iopub.status.busy": "2020-11-19T19:48:36.676969Z",
     "iopub.status.idle": "2020-11-19T19:48:36.690447Z",
     "shell.execute_reply": "2020-11-19T19:48:36.688963Z"
    },
    "papermill": {
     "duration": 0.053377,
     "end_time": "2020-11-19T19:48:36.690571",
     "exception": false,
     "start_time": "2020-11-19T19:48:36.637194",
     "status": "completed"
    },
    "tags": []
   },
   "outputs": [],
   "source": [
    "# delete length 0 sequences from sequences and book\n",
    "valka_s_mloky <- valka_s_mloky[-c(join_seq, del_seq)]\n",
    "sequences <- sequences[-c(join_seq, del_seq)]"
   ]
  },
  {
   "cell_type": "code",
   "execution_count": 14,
   "metadata": {
    "execution": {
     "iopub.execute_input": "2020-11-19T19:48:36.766834Z",
     "iopub.status.busy": "2020-11-19T19:48:36.764977Z",
     "iopub.status.idle": "2020-11-19T19:48:50.437098Z",
     "shell.execute_reply": "2020-11-19T19:48:50.435490Z"
    },
    "papermill": {
     "duration": 13.711194,
     "end_time": "2020-11-19T19:48:50.437337",
     "exception": false,
     "start_time": "2020-11-19T19:48:36.726143",
     "status": "completed"
    },
    "tags": []
   },
   "outputs": [
    {
     "data": {
      "text/html": [
       "<ol>\n",
       "\t<li><style>\n",
       ".list-inline {list-style: none; margin:0; padding: 0}\n",
       ".list-inline>li {display: inline-block}\n",
       ".list-inline>li:not(:last-child)::after {content: \"\\00b7\"; padding: 0 .5ex}\n",
       "</style>\n",
       "<ol class=list-inline><li>928</li><li>211</li></ol>\n",
       "</li>\n",
       "\t<li><style>\n",
       ".list-inline {list-style: none; margin:0; padding: 0}\n",
       ".list-inline>li {display: inline-block}\n",
       ".list-inline>li:not(:last-child)::after {content: \"\\00b7\"; padding: 0 .5ex}\n",
       "</style>\n",
       "<ol class=list-inline><li>224</li><li>197</li></ol>\n",
       "</li>\n",
       "\t<li><style>\n",
       ".list-inline {list-style: none; margin:0; padding: 0}\n",
       ".list-inline>li {display: inline-block}\n",
       ".list-inline>li:not(:last-child)::after {content: \"\\00b7\"; padding: 0 .5ex}\n",
       "</style>\n",
       "<ol class=list-inline><li>269</li><li>1051</li></ol>\n",
       "</li>\n",
       "\t<li><style>\n",
       ".list-inline {list-style: none; margin:0; padding: 0}\n",
       ".list-inline>li {display: inline-block}\n",
       ".list-inline>li:not(:last-child)::after {content: \"\\00b7\"; padding: 0 .5ex}\n",
       "</style>\n",
       "<ol class=list-inline><li>3439</li><li>198</li><li>60</li><li>327</li></ol>\n",
       "</li>\n",
       "\t<li><style>\n",
       ".list-inline {list-style: none; margin:0; padding: 0}\n",
       ".list-inline>li {display: inline-block}\n",
       ".list-inline>li:not(:last-child)::after {content: \"\\00b7\"; padding: 0 .5ex}\n",
       "</style>\n",
       "<ol class=list-inline><li>1436</li><li>3440</li><li>1052</li><li>514</li><li>515</li><li>5</li></ol>\n",
       "</li>\n",
       "\t<li><style>\n",
       ".list-inline {list-style: none; margin:0; padding: 0}\n",
       ".list-inline>li {display: inline-block}\n",
       ".list-inline>li:not(:last-child)::after {content: \"\\00b7\"; padding: 0 .5ex}\n",
       "</style>\n",
       "<ol class=list-inline><li>3440</li><li>1052</li><li>514</li><li>515</li><li>5</li><li>1</li></ol>\n",
       "</li>\n",
       "\t<li><style>\n",
       ".list-inline {list-style: none; margin:0; padding: 0}\n",
       ".list-inline>li {display: inline-block}\n",
       ".list-inline>li:not(:last-child)::after {content: \"\\00b7\"; padding: 0 .5ex}\n",
       "</style>\n",
       "<ol class=list-inline><li>1052</li><li>514</li><li>515</li><li>5</li><li>1</li><li>1801</li></ol>\n",
       "</li>\n",
       "\t<li><style>\n",
       ".list-inline {list-style: none; margin:0; padding: 0}\n",
       ".list-inline>li {display: inline-block}\n",
       ".list-inline>li:not(:last-child)::after {content: \"\\00b7\"; padding: 0 .5ex}\n",
       "</style>\n",
       "<ol class=list-inline><li>514</li><li>515</li><li>5</li><li>1</li><li>1801</li><li>407</li></ol>\n",
       "</li>\n",
       "\t<li><style>\n",
       ".list-inline {list-style: none; margin:0; padding: 0}\n",
       ".list-inline>li {display: inline-block}\n",
       ".list-inline>li:not(:last-child)::after {content: \"\\00b7\"; padding: 0 .5ex}\n",
       "</style>\n",
       "<ol class=list-inline><li>515</li><li>5</li><li>1</li><li>1801</li><li>407</li><li>356</li></ol>\n",
       "</li>\n",
       "\t<li><style>\n",
       ".list-inline {list-style: none; margin:0; padding: 0}\n",
       ".list-inline>li {display: inline-block}\n",
       ".list-inline>li:not(:last-child)::after {content: \"\\00b7\"; padding: 0 .5ex}\n",
       "</style>\n",
       "<ol class=list-inline><li>5</li><li>1</li><li>1801</li><li>407</li><li>356</li><li>152</li></ol>\n",
       "</li>\n",
       "</ol>\n"
      ],
      "text/latex": [
       "\\begin{enumerate}\n",
       "\\item \\begin{enumerate*}\n",
       "\\item 928\n",
       "\\item 211\n",
       "\\end{enumerate*}\n",
       "\n",
       "\\item \\begin{enumerate*}\n",
       "\\item 224\n",
       "\\item 197\n",
       "\\end{enumerate*}\n",
       "\n",
       "\\item \\begin{enumerate*}\n",
       "\\item 269\n",
       "\\item 1051\n",
       "\\end{enumerate*}\n",
       "\n",
       "\\item \\begin{enumerate*}\n",
       "\\item 3439\n",
       "\\item 198\n",
       "\\item 60\n",
       "\\item 327\n",
       "\\end{enumerate*}\n",
       "\n",
       "\\item \\begin{enumerate*}\n",
       "\\item 1436\n",
       "\\item 3440\n",
       "\\item 1052\n",
       "\\item 514\n",
       "\\item 515\n",
       "\\item 5\n",
       "\\end{enumerate*}\n",
       "\n",
       "\\item \\begin{enumerate*}\n",
       "\\item 3440\n",
       "\\item 1052\n",
       "\\item 514\n",
       "\\item 515\n",
       "\\item 5\n",
       "\\item 1\n",
       "\\end{enumerate*}\n",
       "\n",
       "\\item \\begin{enumerate*}\n",
       "\\item 1052\n",
       "\\item 514\n",
       "\\item 515\n",
       "\\item 5\n",
       "\\item 1\n",
       "\\item 1801\n",
       "\\end{enumerate*}\n",
       "\n",
       "\\item \\begin{enumerate*}\n",
       "\\item 514\n",
       "\\item 515\n",
       "\\item 5\n",
       "\\item 1\n",
       "\\item 1801\n",
       "\\item 407\n",
       "\\end{enumerate*}\n",
       "\n",
       "\\item \\begin{enumerate*}\n",
       "\\item 515\n",
       "\\item 5\n",
       "\\item 1\n",
       "\\item 1801\n",
       "\\item 407\n",
       "\\item 356\n",
       "\\end{enumerate*}\n",
       "\n",
       "\\item \\begin{enumerate*}\n",
       "\\item 5\n",
       "\\item 1\n",
       "\\item 1801\n",
       "\\item 407\n",
       "\\item 356\n",
       "\\item 152\n",
       "\\end{enumerate*}\n",
       "\n",
       "\\end{enumerate}\n"
      ],
      "text/markdown": [
       "1. 1. 928\n",
       "2. 211\n",
       "\n",
       "\n",
       "\n",
       "2. 1. 224\n",
       "2. 197\n",
       "\n",
       "\n",
       "\n",
       "3. 1. 269\n",
       "2. 1051\n",
       "\n",
       "\n",
       "\n",
       "4. 1. 3439\n",
       "2. 198\n",
       "3. 60\n",
       "4. 327\n",
       "\n",
       "\n",
       "\n",
       "5. 1. 1436\n",
       "2. 3440\n",
       "3. 1052\n",
       "4. 514\n",
       "5. 515\n",
       "6. 5\n",
       "\n",
       "\n",
       "\n",
       "6. 1. 3440\n",
       "2. 1052\n",
       "3. 514\n",
       "4. 515\n",
       "5. 5\n",
       "6. 1\n",
       "\n",
       "\n",
       "\n",
       "7. 1. 1052\n",
       "2. 514\n",
       "3. 515\n",
       "4. 5\n",
       "5. 1\n",
       "6. 1801\n",
       "\n",
       "\n",
       "\n",
       "8. 1. 514\n",
       "2. 515\n",
       "3. 5\n",
       "4. 1\n",
       "5. 1801\n",
       "6. 407\n",
       "\n",
       "\n",
       "\n",
       "9. 1. 515\n",
       "2. 5\n",
       "3. 1\n",
       "4. 1801\n",
       "5. 407\n",
       "6. 356\n",
       "\n",
       "\n",
       "\n",
       "10. 1. 5\n",
       "2. 1\n",
       "3. 1801\n",
       "4. 407\n",
       "5. 356\n",
       "6. 152\n",
       "\n",
       "\n",
       "\n",
       "\n",
       "\n"
      ],
      "text/plain": [
       "[[1]]\n",
       "[1] 928 211\n",
       "\n",
       "[[2]]\n",
       "[1] 224 197\n",
       "\n",
       "[[3]]\n",
       "[1]  269 1051\n",
       "\n",
       "[[4]]\n",
       "[1] 3439  198   60  327\n",
       "\n",
       "[[5]]\n",
       "[1] 1436 3440 1052  514  515    5\n",
       "\n",
       "[[6]]\n",
       "[1] 3440 1052  514  515    5    1\n",
       "\n",
       "[[7]]\n",
       "[1] 1052  514  515    5    1 1801\n",
       "\n",
       "[[8]]\n",
       "[1]  514  515    5    1 1801  407\n",
       "\n",
       "[[9]]\n",
       "[1]  515    5    1 1801  407  356\n",
       "\n",
       "[[10]]\n",
       "[1]    5    1 1801  407  356  152\n"
      ]
     },
     "metadata": {},
     "output_type": "display_data"
    }
   ],
   "source": [
    "# n-grams\n",
    "n_gram_sequences <- c()\n",
    "\n",
    "for (line in sequences){\n",
    "    line_cor <- unlist(line)\n",
    "    l <- length(line_cor)\n",
    "    if(l < 6){\n",
    "        n_gram_sequences <- append(n_gram_sequences, list(as.numeric(line_cor[1:l])))\n",
    "    } else{\n",
    "        for (i in 1:(l - 5)){\n",
    "            n_gram_sequences <- append(n_gram_sequences, list(as.numeric(line_cor[i:(i+5)])))\n",
    "        }\n",
    "    }\n",
    "}\n",
    "\n",
    "n_gram_sequences[1:10]"
   ]
  },
  {
   "cell_type": "code",
   "execution_count": 15,
   "metadata": {
    "execution": {
     "iopub.execute_input": "2020-11-19T19:48:50.519554Z",
     "iopub.status.busy": "2020-11-19T19:48:50.517737Z",
     "iopub.status.idle": "2020-11-19T19:48:50.530236Z",
     "shell.execute_reply": "2020-11-19T19:48:50.528787Z"
    },
    "papermill": {
     "duration": 0.053225,
     "end_time": "2020-11-19T19:48:50.530369",
     "exception": false,
     "start_time": "2020-11-19T19:48:50.477144",
     "status": "completed"
    },
    "tags": []
   },
   "outputs": [],
   "source": [
    "# padding\n",
    "#maxlen <- 0\n",
    "\n",
    "#for (i in 1:length(n_gram_sequences)){\n",
    "#    if (length(unlist(n_gram_sequences[i])) > maxlen) {\n",
    "#        maxlen <- length(unlist(n_gram_sequences[i]))\n",
    "#    }\n",
    "#}\n",
    "\n",
    "maxlen <- 6"
   ]
  },
  {
   "cell_type": "code",
   "execution_count": 16,
   "metadata": {
    "execution": {
     "iopub.execute_input": "2020-11-19T19:48:50.610955Z",
     "iopub.status.busy": "2020-11-19T19:48:50.609212Z",
     "iopub.status.idle": "2020-11-19T19:48:50.967721Z",
     "shell.execute_reply": "2020-11-19T19:48:50.966314Z"
    },
    "papermill": {
     "duration": 0.400241,
     "end_time": "2020-11-19T19:48:50.967858",
     "exception": false,
     "start_time": "2020-11-19T19:48:50.567617",
     "status": "completed"
    },
    "tags": []
   },
   "outputs": [
    {
     "data": {
      "text/html": [
       "<table class=\"dataframe\">\n",
       "<caption>A matrix: 10 × 6 of type int</caption>\n",
       "<tbody>\n",
       "\t<tr><td>   0</td><td>   0</td><td>   0</td><td>   0</td><td> 928</td><td> 211</td></tr>\n",
       "\t<tr><td>   0</td><td>   0</td><td>   0</td><td>   0</td><td> 224</td><td> 197</td></tr>\n",
       "\t<tr><td>   0</td><td>   0</td><td>   0</td><td>   0</td><td> 269</td><td>1051</td></tr>\n",
       "\t<tr><td>   0</td><td>   0</td><td>3439</td><td> 198</td><td>  60</td><td> 327</td></tr>\n",
       "\t<tr><td>1436</td><td>3440</td><td>1052</td><td> 514</td><td> 515</td><td>   5</td></tr>\n",
       "\t<tr><td>3440</td><td>1052</td><td> 514</td><td> 515</td><td>   5</td><td>   1</td></tr>\n",
       "\t<tr><td>1052</td><td> 514</td><td> 515</td><td>   5</td><td>   1</td><td>1801</td></tr>\n",
       "\t<tr><td> 514</td><td> 515</td><td>   5</td><td>   1</td><td>1801</td><td> 407</td></tr>\n",
       "\t<tr><td> 515</td><td>   5</td><td>   1</td><td>1801</td><td> 407</td><td> 356</td></tr>\n",
       "\t<tr><td>   5</td><td>   1</td><td>1801</td><td> 407</td><td> 356</td><td> 152</td></tr>\n",
       "</tbody>\n",
       "</table>\n"
      ],
      "text/latex": [
       "A matrix: 10 × 6 of type int\n",
       "\\begin{tabular}{llllll}\n",
       "\t    0 &    0 &    0 &    0 &  928 &  211\\\\\n",
       "\t    0 &    0 &    0 &    0 &  224 &  197\\\\\n",
       "\t    0 &    0 &    0 &    0 &  269 & 1051\\\\\n",
       "\t    0 &    0 & 3439 &  198 &   60 &  327\\\\\n",
       "\t 1436 & 3440 & 1052 &  514 &  515 &    5\\\\\n",
       "\t 3440 & 1052 &  514 &  515 &    5 &    1\\\\\n",
       "\t 1052 &  514 &  515 &    5 &    1 & 1801\\\\\n",
       "\t  514 &  515 &    5 &    1 & 1801 &  407\\\\\n",
       "\t  515 &    5 &    1 & 1801 &  407 &  356\\\\\n",
       "\t    5 &    1 & 1801 &  407 &  356 &  152\\\\\n",
       "\\end{tabular}\n"
      ],
      "text/markdown": [
       "\n",
       "A matrix: 10 × 6 of type int\n",
       "\n",
       "|    0 |    0 |    0 |    0 |  928 |  211 |\n",
       "|    0 |    0 |    0 |    0 |  224 |  197 |\n",
       "|    0 |    0 |    0 |    0 |  269 | 1051 |\n",
       "|    0 |    0 | 3439 |  198 |   60 |  327 |\n",
       "| 1436 | 3440 | 1052 |  514 |  515 |    5 |\n",
       "| 3440 | 1052 |  514 |  515 |    5 |    1 |\n",
       "| 1052 |  514 |  515 |    5 |    1 | 1801 |\n",
       "|  514 |  515 |    5 |    1 | 1801 |  407 |\n",
       "|  515 |    5 |    1 | 1801 |  407 |  356 |\n",
       "|    5 |    1 | 1801 |  407 |  356 |  152 |\n",
       "\n"
      ],
      "text/plain": [
       "      [,1] [,2] [,3] [,4] [,5] [,6]\n",
       " [1,]    0    0    0    0  928  211\n",
       " [2,]    0    0    0    0  224  197\n",
       " [3,]    0    0    0    0  269 1051\n",
       " [4,]    0    0 3439  198   60  327\n",
       " [5,] 1436 3440 1052  514  515    5\n",
       " [6,] 3440 1052  514  515    5    1\n",
       " [7,] 1052  514  515    5    1 1801\n",
       " [8,]  514  515    5    1 1801  407\n",
       " [9,]  515    5    1 1801  407  356\n",
       "[10,]    5    1 1801  407  356  152"
      ]
     },
     "metadata": {},
     "output_type": "display_data"
    }
   ],
   "source": [
    "padded <- pad_sequences(n_gram_sequences)\n",
    "padded[1:10, ]"
   ]
  },
  {
   "cell_type": "code",
   "execution_count": 17,
   "metadata": {
    "execution": {
     "iopub.execute_input": "2020-11-19T19:48:51.050559Z",
     "iopub.status.busy": "2020-11-19T19:48:51.048716Z",
     "iopub.status.idle": "2020-11-19T19:48:55.295909Z",
     "shell.execute_reply": "2020-11-19T19:48:55.293026Z"
    },
    "papermill": {
     "duration": 4.289594,
     "end_time": "2020-11-19T19:48:55.296081",
     "exception": false,
     "start_time": "2020-11-19T19:48:51.006487",
     "status": "completed"
    },
    "tags": []
   },
   "outputs": [],
   "source": [
    "# preparation for model\n",
    "labels <- padded[, ncol(padded)]\n",
    "inputs <- padded[,(-ncol(padded))]\n",
    "encoded_labels <- to_categorical(labels, num_classes = vocab_size)"
   ]
  },
  {
   "cell_type": "markdown",
   "metadata": {
    "papermill": {
     "duration": 0.044879,
     "end_time": "2020-11-19T19:48:55.395292",
     "exception": false,
     "start_time": "2020-11-19T19:48:55.350413",
     "status": "completed"
    },
    "tags": []
   },
   "source": [
    "4. Model"
   ]
  },
  {
   "cell_type": "code",
   "execution_count": 18,
   "metadata": {
    "execution": {
     "iopub.execute_input": "2020-11-19T19:48:55.506736Z",
     "iopub.status.busy": "2020-11-19T19:48:55.506110Z",
     "iopub.status.idle": "2020-11-19T19:48:59.275666Z",
     "shell.execute_reply": "2020-11-19T19:48:59.274097Z"
    },
    "papermill": {
     "duration": 3.836121,
     "end_time": "2020-11-19T19:48:59.275836",
     "exception": false,
     "start_time": "2020-11-19T19:48:55.439715",
     "status": "completed"
    },
    "tags": []
   },
   "outputs": [],
   "source": [
    "model <- keras_model_sequential()\n",
    "# can play with number of dimensions\n",
    "model <- model %>%\n",
    "    layer_embedding(vocab_size, 256, input_length = maxlen - 1) %>%\n",
    "    bidirectional(layer_gru(units = 128)) %>%\n",
    "    layer_dense(vocab_size) %>%\n",
    "    layer_activation('softmax')\n"
   ]
  },
  {
   "cell_type": "code",
   "execution_count": 19,
   "metadata": {
    "execution": {
     "iopub.execute_input": "2020-11-19T19:48:59.358607Z",
     "iopub.status.busy": "2020-11-19T19:48:59.356848Z",
     "iopub.status.idle": "2020-11-19T19:48:59.376427Z",
     "shell.execute_reply": "2020-11-19T19:48:59.374760Z"
    },
    "papermill": {
     "duration": 0.061625,
     "end_time": "2020-11-19T19:48:59.376592",
     "exception": false,
     "start_time": "2020-11-19T19:48:59.314967",
     "status": "completed"
    },
    "tags": []
   },
   "outputs": [
    {
     "name": "stdout",
     "output_type": "stream",
     "text": [
      "Model: \"sequential\"\n",
      "________________________________________________________________________________\n",
      "Layer (type)                        Output Shape                    Param #     \n",
      "================================================================================\n",
      "embedding (Embedding)               (None, 5, 256)                  1024000     \n",
      "________________________________________________________________________________\n",
      "bidirectional (Bidirectional)       (None, 256)                     295680      \n",
      "________________________________________________________________________________\n",
      "dense (Dense)                       (None, 4000)                    1028000     \n",
      "________________________________________________________________________________\n",
      "activation (Activation)             (None, 4000)                    0           \n",
      "================================================================================\n",
      "Total params: 2,347,680\n",
      "Trainable params: 2,347,680\n",
      "Non-trainable params: 0\n",
      "________________________________________________________________________________\n"
     ]
    }
   ],
   "source": [
    "summary(model)"
   ]
  },
  {
   "cell_type": "code",
   "execution_count": 20,
   "metadata": {
    "execution": {
     "iopub.execute_input": "2020-11-19T19:48:59.469241Z",
     "iopub.status.busy": "2020-11-19T19:48:59.467512Z",
     "iopub.status.idle": "2020-11-19T19:48:59.496497Z",
     "shell.execute_reply": "2020-11-19T19:48:59.494607Z"
    },
    "papermill": {
     "duration": 0.072763,
     "end_time": "2020-11-19T19:48:59.496621",
     "exception": false,
     "start_time": "2020-11-19T19:48:59.423858",
     "status": "completed"
    },
    "tags": []
   },
   "outputs": [],
   "source": [
    "## compile model\n",
    "model %>% compile(\n",
    "  optimizer = optimizer_adam(lr = 0.001),\n",
    "  loss = 'categorical_crossentropy',\n",
    "  metrics = list('accuracy')\n",
    ")"
   ]
  },
  {
   "cell_type": "code",
   "execution_count": 21,
   "metadata": {
    "execution": {
     "iopub.execute_input": "2020-11-19T19:48:59.581493Z",
     "iopub.status.busy": "2020-11-19T19:48:59.579832Z",
     "iopub.status.idle": "2020-11-19T19:53:31.831853Z",
     "shell.execute_reply": "2020-11-19T19:53:31.830520Z"
    },
    "papermill": {
     "duration": 272.295327,
     "end_time": "2020-11-19T19:53:31.832071",
     "exception": false,
     "start_time": "2020-11-19T19:48:59.536744",
     "status": "completed"
    },
    "tags": []
   },
   "outputs": [],
   "source": [
    "## 50 epochs\n",
    "## batch size 512\n",
    "history <- model %>% fit(\n",
    "  inputs,\n",
    "  encoded_labels,\n",
    "  epochs = 50,\n",
    "  batch_size = 512,\n",
    "  verbose = 0,\n",
    ")"
   ]
  },
  {
   "cell_type": "code",
   "execution_count": 22,
   "metadata": {
    "execution": {
     "iopub.execute_input": "2020-11-19T19:53:31.937142Z",
     "iopub.status.busy": "2020-11-19T19:53:31.935457Z",
     "iopub.status.idle": "2020-11-19T19:53:32.971401Z",
     "shell.execute_reply": "2020-11-19T19:53:32.968242Z"
    },
    "papermill": {
     "duration": 1.077844,
     "end_time": "2020-11-19T19:53:32.971594",
     "exception": false,
     "start_time": "2020-11-19T19:53:31.893750",
     "status": "completed"
    },
    "tags": []
   },
   "outputs": [
    {
     "data": {
      "text/plain": [
       "\n",
       "Final epoch (plot to see history):\n",
       "    loss: 0.3597\n",
       "accuracy: 0.947 "
      ]
     },
     "metadata": {},
     "output_type": "display_data"
    },
    {
     "name": "stderr",
     "output_type": "stream",
     "text": [
      "`geom_smooth()` using formula 'y ~ x'\n",
      "\n"
     ]
    },
    {
     "data": {
      "image/png": "[encoded data removed]"
     },
     "metadata": {
      "image/png": {
       "height": 420,
       "width": 420
      }
     },
     "output_type": "display_data"
    }
   ],
   "source": [
    "history\n",
    "plot(history)"
   ]
  },
  {
   "cell_type": "code",
   "execution_count": 23,
   "metadata": {
    "execution": {
     "iopub.execute_input": "2020-11-19T19:53:33.102859Z",
     "iopub.status.busy": "2020-11-19T19:53:33.102248Z",
     "iopub.status.idle": "2020-11-19T19:53:43.385914Z",
     "shell.execute_reply": "2020-11-19T19:53:43.384426Z"
    },
    "papermill": {
     "duration": 10.350989,
     "end_time": "2020-11-19T19:53:43.386107",
     "exception": false,
     "start_time": "2020-11-19T19:53:33.035118",
     "status": "completed"
    },
    "tags": []
   },
   "outputs": [
    {
     "data": {
      "text/html": [
       "<style>\n",
       ".dl-inline {width: auto; margin:0; padding: 0}\n",
       ".dl-inline>dt, .dl-inline>dd {float: none; width: auto; display: inline-block}\n",
       ".dl-inline>dt::after {content: \":\\0020\"; padding-right: .5ex}\n",
       ".dl-inline>dt:not(:first-of-type) {padding-left: .5ex}\n",
       "</style><dl class=dl-inline><dt>loss</dt><dd>0.301702976226807</dd><dt>accuracy</dt><dd>0.958133101463318</dd></dl>\n"
      ],
      "text/latex": [
       "\\begin{description*}\n",
       "\\item[loss] 0.301702976226807\n",
       "\\item[accuracy] 0.958133101463318\n",
       "\\end{description*}\n"
      ],
      "text/markdown": [
       "loss\n",
       ":   0.301702976226807accuracy\n",
       ":   0.958133101463318\n",
       "\n"
      ],
      "text/plain": [
       "     loss  accuracy \n",
       "0.3017030 0.9581331 "
      ]
     },
     "metadata": {},
     "output_type": "display_data"
    }
   ],
   "source": [
    "model %>% evaluate(inputs, encoded_labels)"
   ]
  },
  {
   "cell_type": "markdown",
   "metadata": {
    "papermill": {
     "duration": 0.042146,
     "end_time": "2020-11-19T19:53:43.470009",
     "exception": false,
     "start_time": "2020-11-19T19:53:43.427863",
     "status": "completed"
    },
    "tags": []
   },
   "source": [
    "5. Generate text"
   ]
  },
  {
   "cell_type": "code",
   "execution_count": 24,
   "metadata": {
    "execution": {
     "iopub.execute_input": "2020-11-19T19:53:43.557427Z",
     "iopub.status.busy": "2020-11-19T19:53:43.555674Z",
     "iopub.status.idle": "2020-11-19T19:53:43.578045Z",
     "shell.execute_reply": "2020-11-19T19:53:43.576387Z"
    },
    "papermill": {
     "duration": 0.067906,
     "end_time": "2020-11-19T19:53:43.578276",
     "exception": false,
     "start_time": "2020-11-19T19:53:43.510370",
     "status": "completed"
    },
    "tags": []
   },
   "outputs": [],
   "source": [
    "word_index <- tokenizer$word_index"
   ]
  },
  {
   "cell_type": "code",
   "execution_count": 25,
   "metadata": {
    "execution": {
     "iopub.execute_input": "2020-11-19T19:53:43.665474Z",
     "iopub.status.busy": "2020-11-19T19:53:43.663762Z",
     "iopub.status.idle": "2020-11-19T19:53:43.675491Z",
     "shell.execute_reply": "2020-11-19T19:53:43.674022Z"
    },
    "papermill": {
     "duration": 0.056781,
     "end_time": "2020-11-19T19:53:43.675618",
     "exception": false,
     "start_time": "2020-11-19T19:53:43.618837",
     "status": "completed"
    },
    "tags": []
   },
   "outputs": [],
   "source": [
    "# text generating function\n",
    "write_text <- function(seed_text, length = 20) {\n",
    "  for (i in 1:length + 1) {\n",
    "    token_list <- texts_to_sequences(tokenizer, list(seed_text))\n",
    "    padded <- pad_sequences(token_list, maxlen = maxlen - 1)\n",
    "    pred_probs <- model %>% predict(padded)\n",
    "    \n",
    "    output_arg <- sample(seq_len(length(pred_probs)), 1, prob = pred_probs)\n",
    "    #output_arg <- which(pred_probs== max(pred_probs))\n",
    "    \n",
    "    output_word <- names(word_index)[output_arg]\n",
    "    seed_text <- paste(seed_text, output_word)\n",
    "    \n",
    "  }\n",
    "  return(seed_text)\n",
    "}"
   ]
  },
  {
   "cell_type": "code",
   "execution_count": 26,
   "metadata": {
    "execution": {
     "iopub.execute_input": "2020-11-19T19:53:43.761734Z",
     "iopub.status.busy": "2020-11-19T19:53:43.759956Z",
     "iopub.status.idle": "2020-11-19T19:53:45.074725Z",
     "shell.execute_reply": "2020-11-19T19:53:45.072619Z"
    },
    "papermill": {
     "duration": 1.359011,
     "end_time": "2020-11-19T19:53:45.074916",
     "exception": false,
     "start_time": "2020-11-19T19:53:43.715905",
     "status": "completed"
    },
    "tags": []
   },
   "outputs": [
    {
     "data": {
      "text/html": [
       "'mlok zatím byl objevil a a šest beze má si svému a a příliš prefekt kde to zástupce se že teprve'"
      ],
      "text/latex": [
       "'mlok zatím byl objevil a a šest beze má si svému a a příliš prefekt kde to zástupce se že teprve'"
      ],
      "text/markdown": [
       "'mlok zatím byl objevil a a šest beze má si svému a a příliš prefekt kde to zástupce se že teprve'"
      ],
      "text/plain": [
       "[1] \"mlok zatím byl objevil a a šest beze má si svému a a příliš prefekt kde to zástupce se že teprve\""
      ]
     },
     "metadata": {},
     "output_type": "display_data"
    }
   ],
   "source": [
    "write_text(\"mlok\")"
   ]
  },
  {
   "cell_type": "code",
   "execution_count": 27,
   "metadata": {
    "execution": {
     "iopub.execute_input": "2020-11-19T19:53:45.162775Z",
     "iopub.status.busy": "2020-11-19T19:53:45.161127Z",
     "iopub.status.idle": "2020-11-19T19:53:46.292749Z",
     "shell.execute_reply": "2020-11-19T19:53:46.291065Z"
    },
    "papermill": {
     "duration": 1.176001,
     "end_time": "2020-11-19T19:53:46.292918",
     "exception": false,
     "start_time": "2020-11-19T19:53:45.116917",
     "status": "completed"
    },
    "tags": []
   },
   "outputs": [
    {
     "data": {
      "text/html": [
       "'a a a a a a a řeknu to a a tam to jen přerušil by který pane toho volám hráz'"
      ],
      "text/latex": [
       "'a a a a a a a řeknu to a a tam to jen přerušil by který pane toho volám hráz'"
      ],
      "text/markdown": [
       "'a a a a a a a řeknu to a a tam to jen přerušil by který pane toho volám hráz'"
      ],
      "text/plain": [
       "[1] \"a a a a a a a řeknu to a a tam to jen přerušil by který pane toho volám hráz\""
      ]
     },
     "metadata": {},
     "output_type": "display_data"
    }
   ],
   "source": [
    "write_text(\"a\")"
   ]
  },
  {
   "cell_type": "code",
   "execution_count": 28,
   "metadata": {
    "execution": {
     "iopub.execute_input": "2020-11-19T19:53:46.383286Z",
     "iopub.status.busy": "2020-11-19T19:53:46.381656Z",
     "iopub.status.idle": "2020-11-19T19:53:47.351259Z",
     "shell.execute_reply": "2020-11-19T19:53:47.349631Z"
    },
    "papermill": {
     "duration": 1.014705,
     "end_time": "2020-11-19T19:53:47.351488",
     "exception": false,
     "start_time": "2020-11-19T19:53:46.336783",
     "status": "completed"
    },
    "tags": []
   },
   "outputs": [
    {
     "data": {
      "text/html": [
       "'buďte tak laskav bylo a a a a a a a kde to bondy a která za vylodit a ale abe já bondy'"
      ],
      "text/latex": [
       "'buďte tak laskav bylo a a a a a a a kde to bondy a která za vylodit a ale abe já bondy'"
      ],
      "text/markdown": [
       "'buďte tak laskav bylo a a a a a a a kde to bondy a která za vylodit a ale abe já bondy'"
      ],
      "text/plain": [
       "[1] \"buďte tak laskav bylo a a a a a a a kde to bondy a která za vylodit a ale abe já bondy\""
      ]
     },
     "metadata": {},
     "output_type": "display_data"
    }
   ],
   "source": [
    "write_text(\"buďte tak laskav\")"
   ]
  },
  {
   "cell_type": "code",
   "execution_count": 29,
   "metadata": {
    "execution": {
     "iopub.execute_input": "2020-11-19T19:53:47.445221Z",
     "iopub.status.busy": "2020-11-19T19:53:47.443616Z",
     "iopub.status.idle": "2020-11-19T19:53:48.417328Z",
     "shell.execute_reply": "2020-11-19T19:53:48.415651Z"
    },
    "papermill": {
     "duration": 1.02217,
     "end_time": "2020-11-19T19:53:48.417478",
     "exception": false,
     "start_time": "2020-11-19T19:53:47.395308",
     "status": "completed"
    },
    "tags": []
   },
   "outputs": [
    {
     "data": {
      "text/html": [
       "<span style=white-space:pre-wrap>'  a a a a a a a a a a a a a a a a a a a a'</span>"
      ],
      "text/latex": [
       "'  a a a a a a a a a a a a a a a a a a a a'"
      ],
      "text/markdown": [
       "<span style=white-space:pre-wrap>'  a a a a a a a a a a a a a a a a a a a a'</span>"
      ],
      "text/plain": [
       "[1] \"  a a a a a a a a a a a a a a a a a a a a\""
      ]
     },
     "metadata": {},
     "output_type": "display_data"
    }
   ],
   "source": [
    "write_text(\" \")"
   ]
  },
  {
   "cell_type": "code",
   "execution_count": 30,
   "metadata": {
    "execution": {
     "iopub.execute_input": "2020-11-19T19:53:48.511766Z",
     "iopub.status.busy": "2020-11-19T19:53:48.510153Z",
     "iopub.status.idle": "2020-11-19T19:53:49.740688Z",
     "shell.execute_reply": "2020-11-19T19:53:49.739045Z"
    },
    "papermill": {
     "duration": 1.27911,
     "end_time": "2020-11-19T19:53:49.740918",
     "exception": false,
     "start_time": "2020-11-19T19:53:48.461808",
     "status": "completed"
    },
    "tags": []
   },
   "outputs": [
    {
     "data": {
      "text/html": [
       "'abcd a očima a a a a a a a a a a a a a a a a a a'"
      ],
      "text/latex": [
       "'abcd a očima a a a a a a a a a a a a a a a a a a'"
      ],
      "text/markdown": [
       "'abcd a očima a a a a a a a a a a a a a a a a a a'"
      ],
      "text/plain": [
       "[1] \"abcd a očima a a a a a a a a a a a a a a a a a a\""
      ]
     },
     "metadata": {},
     "output_type": "display_data"
    }
   ],
   "source": [
    "write_text(\"abcd\")"
   ]
  },
  {
   "cell_type": "code",
   "execution_count": 31,
   "metadata": {
    "execution": {
     "iopub.execute_input": "2020-11-19T19:53:49.835115Z",
     "iopub.status.busy": "2020-11-19T19:53:49.833351Z",
     "iopub.status.idle": "2020-11-19T19:53:53.051397Z",
     "shell.execute_reply": "2020-11-19T19:53:53.049851Z"
    },
    "papermill": {
     "duration": 3.266211,
     "end_time": "2020-11-19T19:53:53.051615",
     "exception": false,
     "start_time": "2020-11-19T19:53:49.785404",
     "status": "completed"
    },
    "tags": []
   },
   "outputs": [
    {
     "data": {
      "text/html": [
       "'pane toho zkoušky prsou hráz v můžeme čerti toch se a a a v měli s a a a a a'"
      ],
      "text/latex": [
       "'pane toho zkoušky prsou hráz v můžeme čerti toch se a a a v měli s a a a a a'"
      ],
      "text/markdown": [
       "'pane toho zkoušky prsou hráz v můžeme čerti toch se a a a v měli s a a a a a'"
      ],
      "text/plain": [
       "[1] \"pane toho zkoušky prsou hráz v můžeme čerti toch se a a a v měli s a a a a a\""
      ]
     },
     "metadata": {},
     "output_type": "display_data"
    },
    {
     "data": {
      "text/html": [
       "'sorry a byl nemůžeme a a a a a a a a a a a a a a a a a'"
      ],
      "text/latex": [
       "'sorry a byl nemůžeme a a a a a a a a a a a a a a a a a'"
      ],
      "text/markdown": [
       "'sorry a byl nemůžeme a a a a a a a a a a a a a a a a a'"
      ],
      "text/plain": [
       "[1] \"sorry a byl nemůžeme a a a a a a a a a a a a a a a a a\""
      ]
     },
     "metadata": {},
     "output_type": "display_data"
    },
    {
     "data": {
      "text/html": [
       "'řekl takhle bych starosta sir ukázat pojedeme inteligenci sporů no kde to mloků kdy pro poruchy pro tu se že h'"
      ],
      "text/latex": [
       "'řekl takhle bych starosta sir ukázat pojedeme inteligenci sporů no kde to mloků kdy pro poruchy pro tu se že h'"
      ],
      "text/markdown": [
       "'řekl takhle bych starosta sir ukázat pojedeme inteligenci sporů no kde to mloků kdy pro poruchy pro tu se že h'"
      ],
      "text/plain": [
       "[1] \"řekl takhle bych starosta sir ukázat pojedeme inteligenci sporů no kde to mloků kdy pro poruchy pro tu se že h\""
      ]
     },
     "metadata": {},
     "output_type": "display_data"
    }
   ],
   "source": [
    "write_text(\"pane\")\n",
    "write_text(\"sorry\")\n",
    "write_text(\"řekl\")"
   ]
  }
 ],
 "metadata": {
  "kernelspec": {
   "display_name": "R",
   "language": "R",
   "name": "ir"
  },
  "language_info": {
   "codemirror_mode": "r",
   "file_extension": ".r",
   "mimetype": "text/x-r-source",
   "name": "R",
   "pygments_lexer": "r",
   "version": "3.6.3"
  },
  "papermill": {
   "default_parameters": {},
   "duration": 344.986099,
   "end_time": "2020-11-19T19:53:55.564399",
   "environment_variables": {},
   "exception": null,
   "input_path": "__notebook__.ipynb",
   "output_path": "__notebook__.ipynb",
   "parameters": {},
   "start_time": "2020-11-19T19:48:10.578300",
   "version": "2.2.0"
  }
 },
 "nbformat": 4,
 "nbformat_minor": 4
}
